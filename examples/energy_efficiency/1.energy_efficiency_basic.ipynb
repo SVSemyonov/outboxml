{
 "cells": [
  {
   "cell_type": "code",
   "execution_count": 8,
   "id": "97c15b6a-d533-4f33-95a0-9118c23db6ec",
   "metadata": {},
   "outputs": [],
   "source": [
    "import sys\n",
    "sys.path.append(\"../../\")\n",
    "sys.path.append(\"../../outboxml\")"
   ]
  },
  {
   "cell_type": "code",
   "execution_count": 9,
   "id": "86c32ee5-34be-4a5d-920f-cad26d2532ce",
   "metadata": {},
   "outputs": [],
   "source": [
    "import pandas as pd"
   ]
  },
  {
   "cell_type": "code",
   "execution_count": 10,
   "id": "5eda54cd-818a-47b0-9c6b-9b7563857987",
   "metadata": {},
   "outputs": [
    {
     "data": {
      "text/html": [
       "<div>\n",
       "<style scoped>\n",
       "    .dataframe tbody tr th:only-of-type {\n",
       "        vertical-align: middle;\n",
       "    }\n",
       "\n",
       "    .dataframe tbody tr th {\n",
       "        vertical-align: top;\n",
       "    }\n",
       "\n",
       "    .dataframe thead th {\n",
       "        text-align: right;\n",
       "    }\n",
       "</style>\n",
       "<table border=\"1\" class=\"dataframe\">\n",
       "  <thead>\n",
       "    <tr style=\"text-align: right;\">\n",
       "      <th></th>\n",
       "      <th>Relative Compactness</th>\n",
       "      <th>Surface Area</th>\n",
       "      <th>Wall Area</th>\n",
       "      <th>Roof Area</th>\n",
       "      <th>Overall Height</th>\n",
       "      <th>Orientation</th>\n",
       "      <th>Glazing Area</th>\n",
       "      <th>Glazing Area Distribution</th>\n",
       "      <th>Heating Load</th>\n",
       "      <th>Cooling Load</th>\n",
       "    </tr>\n",
       "  </thead>\n",
       "  <tbody>\n",
       "    <tr>\n",
       "      <th>0</th>\n",
       "      <td>0.98</td>\n",
       "      <td>514.5</td>\n",
       "      <td>294.0</td>\n",
       "      <td>110.25</td>\n",
       "      <td>7.0</td>\n",
       "      <td>2</td>\n",
       "      <td>0.0</td>\n",
       "      <td>0</td>\n",
       "      <td>15.55</td>\n",
       "      <td>21.33</td>\n",
       "    </tr>\n",
       "    <tr>\n",
       "      <th>1</th>\n",
       "      <td>0.98</td>\n",
       "      <td>514.5</td>\n",
       "      <td>294.0</td>\n",
       "      <td>110.25</td>\n",
       "      <td>7.0</td>\n",
       "      <td>3</td>\n",
       "      <td>0.0</td>\n",
       "      <td>0</td>\n",
       "      <td>15.55</td>\n",
       "      <td>21.33</td>\n",
       "    </tr>\n",
       "    <tr>\n",
       "      <th>2</th>\n",
       "      <td>0.98</td>\n",
       "      <td>514.5</td>\n",
       "      <td>294.0</td>\n",
       "      <td>110.25</td>\n",
       "      <td>7.0</td>\n",
       "      <td>4</td>\n",
       "      <td>0.0</td>\n",
       "      <td>0</td>\n",
       "      <td>15.55</td>\n",
       "      <td>21.33</td>\n",
       "    </tr>\n",
       "    <tr>\n",
       "      <th>3</th>\n",
       "      <td>0.98</td>\n",
       "      <td>514.5</td>\n",
       "      <td>294.0</td>\n",
       "      <td>110.25</td>\n",
       "      <td>7.0</td>\n",
       "      <td>5</td>\n",
       "      <td>0.0</td>\n",
       "      <td>0</td>\n",
       "      <td>15.55</td>\n",
       "      <td>21.33</td>\n",
       "    </tr>\n",
       "    <tr>\n",
       "      <th>4</th>\n",
       "      <td>0.90</td>\n",
       "      <td>563.5</td>\n",
       "      <td>318.5</td>\n",
       "      <td>122.50</td>\n",
       "      <td>7.0</td>\n",
       "      <td>2</td>\n",
       "      <td>0.0</td>\n",
       "      <td>0</td>\n",
       "      <td>20.84</td>\n",
       "      <td>28.28</td>\n",
       "    </tr>\n",
       "    <tr>\n",
       "      <th>...</th>\n",
       "      <td>...</td>\n",
       "      <td>...</td>\n",
       "      <td>...</td>\n",
       "      <td>...</td>\n",
       "      <td>...</td>\n",
       "      <td>...</td>\n",
       "      <td>...</td>\n",
       "      <td>...</td>\n",
       "      <td>...</td>\n",
       "      <td>...</td>\n",
       "    </tr>\n",
       "    <tr>\n",
       "      <th>763</th>\n",
       "      <td>0.64</td>\n",
       "      <td>784.0</td>\n",
       "      <td>343.0</td>\n",
       "      <td>220.50</td>\n",
       "      <td>3.5</td>\n",
       "      <td>5</td>\n",
       "      <td>0.4</td>\n",
       "      <td>5</td>\n",
       "      <td>17.88</td>\n",
       "      <td>21.40</td>\n",
       "    </tr>\n",
       "    <tr>\n",
       "      <th>764</th>\n",
       "      <td>0.62</td>\n",
       "      <td>808.5</td>\n",
       "      <td>367.5</td>\n",
       "      <td>220.50</td>\n",
       "      <td>3.5</td>\n",
       "      <td>2</td>\n",
       "      <td>0.4</td>\n",
       "      <td>5</td>\n",
       "      <td>16.54</td>\n",
       "      <td>16.88</td>\n",
       "    </tr>\n",
       "    <tr>\n",
       "      <th>765</th>\n",
       "      <td>0.62</td>\n",
       "      <td>808.5</td>\n",
       "      <td>367.5</td>\n",
       "      <td>220.50</td>\n",
       "      <td>3.5</td>\n",
       "      <td>3</td>\n",
       "      <td>0.4</td>\n",
       "      <td>5</td>\n",
       "      <td>16.44</td>\n",
       "      <td>17.11</td>\n",
       "    </tr>\n",
       "    <tr>\n",
       "      <th>766</th>\n",
       "      <td>0.62</td>\n",
       "      <td>808.5</td>\n",
       "      <td>367.5</td>\n",
       "      <td>220.50</td>\n",
       "      <td>3.5</td>\n",
       "      <td>4</td>\n",
       "      <td>0.4</td>\n",
       "      <td>5</td>\n",
       "      <td>16.48</td>\n",
       "      <td>16.61</td>\n",
       "    </tr>\n",
       "    <tr>\n",
       "      <th>767</th>\n",
       "      <td>0.62</td>\n",
       "      <td>808.5</td>\n",
       "      <td>367.5</td>\n",
       "      <td>220.50</td>\n",
       "      <td>3.5</td>\n",
       "      <td>5</td>\n",
       "      <td>0.4</td>\n",
       "      <td>5</td>\n",
       "      <td>16.64</td>\n",
       "      <td>16.03</td>\n",
       "    </tr>\n",
       "  </tbody>\n",
       "</table>\n",
       "<p>768 rows × 10 columns</p>\n",
       "</div>"
      ],
      "text/plain": [
       "     Relative Compactness  Surface Area  Wall Area  Roof Area  Overall Height  \\\n",
       "0                    0.98         514.5      294.0     110.25             7.0   \n",
       "1                    0.98         514.5      294.0     110.25             7.0   \n",
       "2                    0.98         514.5      294.0     110.25             7.0   \n",
       "3                    0.98         514.5      294.0     110.25             7.0   \n",
       "4                    0.90         563.5      318.5     122.50             7.0   \n",
       "..                    ...           ...        ...        ...             ...   \n",
       "763                  0.64         784.0      343.0     220.50             3.5   \n",
       "764                  0.62         808.5      367.5     220.50             3.5   \n",
       "765                  0.62         808.5      367.5     220.50             3.5   \n",
       "766                  0.62         808.5      367.5     220.50             3.5   \n",
       "767                  0.62         808.5      367.5     220.50             3.5   \n",
       "\n",
       "     Orientation  Glazing Area  Glazing Area Distribution  Heating Load  \\\n",
       "0              2           0.0                          0         15.55   \n",
       "1              3           0.0                          0         15.55   \n",
       "2              4           0.0                          0         15.55   \n",
       "3              5           0.0                          0         15.55   \n",
       "4              2           0.0                          0         20.84   \n",
       "..           ...           ...                        ...           ...   \n",
       "763            5           0.4                          5         17.88   \n",
       "764            2           0.4                          5         16.54   \n",
       "765            3           0.4                          5         16.44   \n",
       "766            4           0.4                          5         16.48   \n",
       "767            5           0.4                          5         16.64   \n",
       "\n",
       "     Cooling Load  \n",
       "0           21.33  \n",
       "1           21.33  \n",
       "2           21.33  \n",
       "3           21.33  \n",
       "4           28.28  \n",
       "..            ...  \n",
       "763         21.40  \n",
       "764         16.88  \n",
       "765         17.11  \n",
       "766         16.61  \n",
       "767         16.03  \n",
       "\n",
       "[768 rows x 10 columns]"
      ]
     },
     "execution_count": 10,
     "metadata": {},
     "output_type": "execute_result"
    }
   ],
   "source": [
    "pd.read_csv(\"data/ENB2012_data.csv\")"
   ]
  },
  {
   "cell_type": "code",
   "execution_count": null,
   "id": "2f1d7b03-8878-4051-883f-a966bdbecaf9",
   "metadata": {},
   "outputs": [
    {
     "name": "stderr",
     "output_type": "stream",
     "text": [
      "\u001b[32m2025-08-02 11:24:59.268\u001b[0m | \u001b[1mINFO    \u001b[0m | \u001b[36moutboxml.automl_manager\u001b[0m:\u001b[36m__init_auto_ml\u001b[0m:\u001b[36m453\u001b[0m - \u001b[1mAll models config from path\u001b[0m\n",
      "\u001b[32m2025-08-02 11:24:59.270\u001b[0m | \u001b[34m\u001b[1mDEBUG   \u001b[0m | \u001b[36moutboxml.datasets_manager\u001b[0m:\u001b[36m_init_dsmanager\u001b[0m:\u001b[36m652\u001b[0m - \u001b[34m\u001b[1mInitializing DSManager\u001b[0m\n",
      "\u001b[32m2025-08-02 11:24:59.271\u001b[0m | \u001b[1mINFO    \u001b[0m | \u001b[36moutboxml.datasets_manager\u001b[0m:\u001b[36m__load_all_models_config\u001b[0m:\u001b[36m585\u001b[0m - \u001b[1mAll models config from path\u001b[0m\n",
      "\u001b[32m2025-08-02 11:24:59.272\u001b[0m | \u001b[1mINFO    \u001b[0m | \u001b[36moutboxml.datasets_manager\u001b[0m:\u001b[36m__load_all_models_config\u001b[0m:\u001b[36m603\u001b[0m - \u001b[1mConfig is loaded\u001b[0m\n",
      "\u001b[32m2025-08-02 11:24:59.273\u001b[0m | \u001b[1mINFO    \u001b[0m | \u001b[36moutboxml.datasets_manager\u001b[0m:\u001b[36m__load_prepare_datasets\u001b[0m:\u001b[36m622\u001b[0m - \u001b[1mLoad models prepare datasets\u001b[0m\n",
      "\u001b[32m2025-08-02 11:24:59.274\u001b[0m | \u001b[34m\u001b[1mDEBUG   \u001b[0m | \u001b[36moutboxml.datasets_manager\u001b[0m:\u001b[36m_init_dsmanager\u001b[0m:\u001b[36m658\u001b[0m - \u001b[34m\u001b[1mInitializing completed\u001b[0m\n",
      "\u001b[32m2025-08-02 11:24:59.274\u001b[0m | \u001b[34m\u001b[1mDEBUG   \u001b[0m | \u001b[36moutboxml.automl_manager\u001b[0m:\u001b[36m__init_auto_ml\u001b[0m:\u001b[36m474\u001b[0m - \u001b[34m\u001b[1mAutoML init completed\u001b[0m\n",
      "\u001b[32m2025-08-02 11:24:59.295\u001b[0m | \u001b[34m\u001b[1mDEBUG   \u001b[0m | \u001b[36moutboxml.datasets_manager\u001b[0m:\u001b[36mload_dataset\u001b[0m:\u001b[36m289\u001b[0m - \u001b[34m\u001b[1mDataset loading\u001b[0m\n",
      "\u001b[32m2025-08-02 11:24:59.296\u001b[0m | \u001b[1mINFO    \u001b[0m | \u001b[36moutboxml.extractors\u001b[0m:\u001b[36mload_dataset_from_local\u001b[0m:\u001b[36m66\u001b[0m - \u001b[1mLoad data from local file\u001b[0m\n",
      "\u001b[32m2025-08-02 11:24:59.299\u001b[0m | \u001b[34m\u001b[1mDEBUG   \u001b[0m | \u001b[36moutboxml.extractors\u001b[0m:\u001b[36mload_dataset_from_local\u001b[0m:\u001b[36m91\u001b[0m - \u001b[34m\u001b[1mData loaded successfully from data/ENB2012_data.csv\u001b[0m\n",
      "\u001b[32m2025-08-02 11:24:59.299\u001b[0m | \u001b[34m\u001b[1mDEBUG   \u001b[0m | \u001b[36moutboxml.datasets_manager\u001b[0m:\u001b[36mload_dataset\u001b[0m:\u001b[36m302\u001b[0m - \u001b[34m\u001b[1mDataSet is extracted\u001b[0m\n",
      "\u001b[32m2025-08-02 11:24:59.300\u001b[0m | \u001b[34m\u001b[1mDEBUG   \u001b[0m | \u001b[36moutboxml.automl_manager\u001b[0m:\u001b[36mfeature_selection\u001b[0m:\u001b[36m275\u001b[0m - \u001b[34m\u001b[1mFeature selection||Started\u001b[0m\n",
      "\u001b[32m2025-08-02 11:24:59.301\u001b[0m | \u001b[34m\u001b[1mDEBUG   \u001b[0m | \u001b[36moutboxml.datasets_manager\u001b[0m:\u001b[36m_separateTestTrain\u001b[0m:\u001b[36m478\u001b[0m - \u001b[34m\u001b[1mSeparation started\u001b[0m\n",
      "\u001b[32m2025-08-02 11:24:59.302\u001b[0m | \u001b[1mINFO    \u001b[0m | \u001b[36moutboxml.datasets_manager\u001b[0m:\u001b[36m_separateTestTrain\u001b[0m:\u001b[36m492\u001b[0m - \u001b[1mX shape: (768, 9), Y shape: (768, 1)\u001b[0m\n",
      "\u001b[32m2025-08-02 11:24:59.303\u001b[0m | \u001b[1mINFO    \u001b[0m | \u001b[36moutboxml.datasets_manager\u001b[0m:\u001b[36m_separateTestTrain\u001b[0m:\u001b[36m493\u001b[0m - \u001b[1mY: ['Heating Load']\u001b[0m\n",
      "\u001b[32m2025-08-02 11:24:59.304\u001b[0m | \u001b[1mINFO    \u001b[0m | \u001b[36moutboxml.core.prepared_datasets\u001b[0m:\u001b[36mtrain_test_indexes\u001b[0m:\u001b[36m149\u001b[0m - \u001b[1mRandom separation\u001b[0m\n",
      "\u001b[32m2025-08-02 11:24:59.306\u001b[0m | \u001b[1mINFO    \u001b[0m | \u001b[36moutboxml.core.prepared_datasets\u001b[0m:\u001b[36mtrain_test_indexes\u001b[0m:\u001b[36m166\u001b[0m - \u001b[1mTrain: 576, test: 192\u001b[0m\n",
      "\u001b[32m2025-08-02 11:24:59.306\u001b[0m | \u001b[34m\u001b[1mDEBUG   \u001b[0m | \u001b[36moutboxml.datasets_manager\u001b[0m:\u001b[36m_separateTestTrain\u001b[0m:\u001b[36m524\u001b[0m - \u001b[34m\u001b[1mSeparation finished\u001b[0m\n",
      "\u001b[32m2025-08-02 11:24:59.307\u001b[0m | \u001b[1mINFO    \u001b[0m | \u001b[36moutboxml.dataset_retro\u001b[0m:\u001b[36mfeatures_for_reserch\u001b[0m:\u001b[36m75\u001b[0m - \u001b[1mfeature list to exclude from config ['general']\u001b[0m\n",
      "\u001b[32m2025-08-02 11:24:59.308\u001b[0m | \u001b[1mINFO    \u001b[0m | \u001b[36moutboxml.dataset_retro\u001b[0m:\u001b[36mfeatures_for_reserch\u001b[0m:\u001b[36m84\u001b[0m - \u001b[1mRetro||Features for research ['Surface Area', 'Wall Area', 'Overall Height', 'Orientation', 'Glazing Area', 'Glazing Area Distribution', 'Cooling Load']\u001b[0m\n",
      "\u001b[32m2025-08-02 11:24:59.308\u001b[0m | \u001b[1mINFO    \u001b[0m | \u001b[36moutboxml.data_subsets\u001b[0m:\u001b[36mdataset\u001b[0m:\u001b[36m127\u001b[0m - \u001b[1mSaving data to parquet\u001b[0m\n",
      "\u001b[32m2025-08-02 11:24:59.309\u001b[0m | \u001b[1mINFO    \u001b[0m | \u001b[36moutboxml.data_subsets\u001b[0m:\u001b[36msave_parquet\u001b[0m:\u001b[36m321\u001b[0m - \u001b[1m||Saving dataset to parquet\u001b[0m\n",
      "\u001b[32m2025-08-02 11:24:59.312\u001b[0m | \u001b[1mINFO    \u001b[0m | \u001b[36moutboxml.data_subsets\u001b[0m:\u001b[36mdataset\u001b[0m:\u001b[36m148\u001b[0m - \u001b[1mReading data from parquet\u001b[0m\n",
      "\u001b[32m2025-08-02 11:24:59.316\u001b[0m | \u001b[34m\u001b[1mDEBUG   \u001b[0m | \u001b[36moutboxml.feature_selection\u001b[0m:\u001b[36mselect_features\u001b[0m:\u001b[36m228\u001b[0m - \u001b[34m\u001b[1mFeature selection||Prepare of new_features for research\u001b[0m\n",
      "\u001b[32m2025-08-02 11:24:59.317\u001b[0m | \u001b[1mINFO    \u001b[0m | \u001b[36moutboxml.data_subsets\u001b[0m:\u001b[36mdataset\u001b[0m:\u001b[36m127\u001b[0m - \u001b[1mSaving data to parquet\u001b[0m\n",
      "\u001b[32m2025-08-02 11:24:59.317\u001b[0m | \u001b[1mINFO    \u001b[0m | \u001b[36moutboxml.data_subsets\u001b[0m:\u001b[36msave_parquet\u001b[0m:\u001b[36m321\u001b[0m - \u001b[1m||Saving dataset to parquet\u001b[0m\n",
      "\u001b[32m2025-08-02 11:24:59.320\u001b[0m | \u001b[1mINFO    \u001b[0m | \u001b[36moutboxml.data_subsets\u001b[0m:\u001b[36mdataset\u001b[0m:\u001b[36m148\u001b[0m - \u001b[1mReading data from parquet\u001b[0m\n",
      "100%|██████████| 7/7 [00:00<00:00, 1837.53it/s]\n",
      "\u001b[32m2025-08-02 11:24:59.328\u001b[0m | \u001b[1mINFO    \u001b[0m | \u001b[36moutboxml.feature_selection\u001b[0m:\u001b[36mvalue_type\u001b[0m:\u001b[36m334\u001b[0m - \u001b[1mBINARY:['Overall Height']\u001b[0m\n",
      "\u001b[32m2025-08-02 11:24:59.329\u001b[0m | \u001b[1mINFO    \u001b[0m | \u001b[36moutboxml.feature_selection\u001b[0m:\u001b[36mvalue_type\u001b[0m:\u001b[36m334\u001b[0m - \u001b[1mCATEGORIAL:[]\u001b[0m\n",
      "\u001b[32m2025-08-02 11:24:59.330\u001b[0m | \u001b[1mINFO    \u001b[0m | \u001b[36moutboxml.feature_selection\u001b[0m:\u001b[36mvalue_type\u001b[0m:\u001b[36m334\u001b[0m - \u001b[1mNUMERIC:['Surface Area', 'Wall Area', 'Orientation', 'Glazing Area', 'Glazing Area Distribution', 'Cooling Load']\u001b[0m\n",
      "\u001b[32m2025-08-02 11:24:59.331\u001b[0m | \u001b[1mINFO    \u001b[0m | \u001b[36moutboxml.feature_selection\u001b[0m:\u001b[36mvalue_type\u001b[0m:\u001b[36m334\u001b[0m - \u001b[1mTO_DROP:[]\u001b[0m\n",
      "\u001b[32m2025-08-02 11:24:59.331\u001b[0m | \u001b[1mINFO    \u001b[0m | \u001b[36moutboxml.feature_selection\u001b[0m:\u001b[36mvalue_type\u001b[0m:\u001b[36m334\u001b[0m - \u001b[1mOBJECT:[]\u001b[0m\n",
      "\u001b[32m2025-08-02 11:24:59.332\u001b[0m | \u001b[1mINFO    \u001b[0m | \u001b[36moutboxml.feature_selection\u001b[0m:\u001b[36mvalue_type\u001b[0m:\u001b[36m334\u001b[0m - \u001b[1mDATE:[]\u001b[0m\n",
      "\u001b[32m2025-08-02 11:24:59.333\u001b[0m | \u001b[1mINFO    \u001b[0m | \u001b[36moutboxml.data_subsets\u001b[0m:\u001b[36mdataset\u001b[0m:\u001b[36m127\u001b[0m - \u001b[1mSaving data to parquet\u001b[0m\n",
      "\u001b[32m2025-08-02 11:24:59.333\u001b[0m | \u001b[1mINFO    \u001b[0m | \u001b[36moutboxml.data_subsets\u001b[0m:\u001b[36msave_parquet\u001b[0m:\u001b[36m321\u001b[0m - \u001b[1m||Saving dataset to parquet\u001b[0m\n",
      "\u001b[32m2025-08-02 11:24:59.336\u001b[0m | \u001b[1mINFO    \u001b[0m | \u001b[36moutboxml.data_subsets\u001b[0m:\u001b[36mdataset\u001b[0m:\u001b[36m148\u001b[0m - \u001b[1mReading data from parquet\u001b[0m\n",
      "\u001b[32m2025-08-02 11:24:59.339\u001b[0m | \u001b[1mINFO    \u001b[0m | \u001b[36moutboxml.feature_selection\u001b[0m:\u001b[36m_prepare_feature\u001b[0m:\u001b[36m368\u001b[0m - \u001b[1mPrepare feature||Surface Area\u001b[0m\n",
      "\u001b[32m2025-08-02 11:24:59.341\u001b[0m | \u001b[1mINFO    \u001b[0m | \u001b[36moutboxml.feature_selection\u001b[0m:\u001b[36m_prepare_feature\u001b[0m:\u001b[36m392\u001b[0m - \u001b[1m{'clip': {'min_value': 514.5, 'max_value': 808.5}, 'default': 673.75, 'encoding': 'WoE_num_to_num'}\u001b[0m\n",
      "\u001b[32m2025-08-02 11:24:59.342\u001b[0m | \u001b[1mINFO    \u001b[0m | \u001b[36moutboxml.feature_selection\u001b[0m:\u001b[36m_prepare_feature\u001b[0m:\u001b[36m368\u001b[0m - \u001b[1mPrepare feature||Wall Area\u001b[0m\n",
      "\u001b[32m2025-08-02 11:24:59.344\u001b[0m | \u001b[1mINFO    \u001b[0m | \u001b[36moutboxml.feature_selection\u001b[0m:\u001b[36m_prepare_feature\u001b[0m:\u001b[36m392\u001b[0m - \u001b[1m{'clip': {'min_value': 245.0, 'max_value': 416.5}, 'default': 318.5, 'encoding': 'WoE_num_to_num'}\u001b[0m\n",
      "\u001b[32m2025-08-02 11:24:59.345\u001b[0m | \u001b[1mINFO    \u001b[0m | \u001b[36moutboxml.feature_selection\u001b[0m:\u001b[36m_prepare_feature\u001b[0m:\u001b[36m368\u001b[0m - \u001b[1mPrepare feature||Orientation\u001b[0m\n",
      "\u001b[32m2025-08-02 11:24:59.347\u001b[0m | \u001b[1mINFO    \u001b[0m | \u001b[36moutboxml.feature_selection\u001b[0m:\u001b[36m_prepare_feature\u001b[0m:\u001b[36m392\u001b[0m - \u001b[1m{'clip': {'min_value': 2.0, 'max_value': 5.0}, 'default': 3.5, 'encoding': 'WoE_num_to_num'}\u001b[0m\n",
      "\u001b[32m2025-08-02 11:24:59.348\u001b[0m | \u001b[1mINFO    \u001b[0m | \u001b[36moutboxml.feature_selection\u001b[0m:\u001b[36m_prepare_feature\u001b[0m:\u001b[36m368\u001b[0m - \u001b[1mPrepare feature||Glazing Area\u001b[0m\n",
      "\u001b[32m2025-08-02 11:24:59.349\u001b[0m | \u001b[1mINFO    \u001b[0m | \u001b[36moutboxml.feature_selection\u001b[0m:\u001b[36m_prepare_feature\u001b[0m:\u001b[36m392\u001b[0m - \u001b[1m{'clip': {'min_value': 0.0, 'max_value': 0.4}, 'default': 0.25, 'encoding': 'WoE_num_to_num'}\u001b[0m\n",
      "\u001b[32m2025-08-02 11:24:59.350\u001b[0m | \u001b[1mINFO    \u001b[0m | \u001b[36moutboxml.feature_selection\u001b[0m:\u001b[36m_prepare_feature\u001b[0m:\u001b[36m368\u001b[0m - \u001b[1mPrepare feature||Glazing Area Distribution\u001b[0m\n",
      "\u001b[32m2025-08-02 11:24:59.352\u001b[0m | \u001b[1mINFO    \u001b[0m | \u001b[36moutboxml.feature_selection\u001b[0m:\u001b[36m_prepare_feature\u001b[0m:\u001b[36m392\u001b[0m - \u001b[1m{'clip': {'min_value': 0.0, 'max_value': 5.0}, 'default': 3.0, 'encoding': 'WoE_num_to_num'}\u001b[0m\n",
      "\u001b[32m2025-08-02 11:24:59.353\u001b[0m | \u001b[1mINFO    \u001b[0m | \u001b[36moutboxml.feature_selection\u001b[0m:\u001b[36m_prepare_feature\u001b[0m:\u001b[36m368\u001b[0m - \u001b[1mPrepare feature||Cooling Load\u001b[0m\n",
      "\u001b[32m2025-08-02 11:24:59.354\u001b[0m | \u001b[1mINFO    \u001b[0m | \u001b[36moutboxml.feature_selection\u001b[0m:\u001b[36m_prepare_feature\u001b[0m:\u001b[36m392\u001b[0m - \u001b[1m{'clip': {'min_value': 10.930679999999999, 'max_value': 47.69252000000003}, 'default': 22.08, 'encoding': 'WoE_num_to_num'}\u001b[0m\n",
      "\u001b[32m2025-08-02 11:24:59.355\u001b[0m | \u001b[1mINFO    \u001b[0m | \u001b[36moutboxml.feature_selection\u001b[0m:\u001b[36m_prepare_feature\u001b[0m:\u001b[36m368\u001b[0m - \u001b[1mPrepare feature||Overall Height\u001b[0m\n",
      "\u001b[32m2025-08-02 11:24:59.358\u001b[0m | \u001b[1mINFO    \u001b[0m | \u001b[36moutboxml.feature_selection\u001b[0m:\u001b[36m_prepare_feature\u001b[0m:\u001b[36m392\u001b[0m - \u001b[1m{'default': '_NAN_', 'encoding': 'WoE_cat_to_num'}\u001b[0m\n",
      "\u001b[32m2025-08-02 11:24:59.359\u001b[0m | \u001b[34m\u001b[1mDEBUG   \u001b[0m | \u001b[36moutboxml.data_subsets\u001b[0m:\u001b[36m_prepare_subset\u001b[0m:\u001b[36m179\u001b[0m - \u001b[34m\u001b[1mModel heating || Data preparation started\u001b[0m\n",
      "\u001b[32m2025-08-02 11:24:59.360\u001b[0m | \u001b[1mINFO    \u001b[0m | \u001b[36moutboxml.data_subsets\u001b[0m:\u001b[36mdataset\u001b[0m:\u001b[36m127\u001b[0m - \u001b[1mSaving data to parquet\u001b[0m\n",
      "\u001b[32m2025-08-02 11:24:59.360\u001b[0m | \u001b[1mINFO    \u001b[0m | \u001b[36moutboxml.data_subsets\u001b[0m:\u001b[36msave_parquet\u001b[0m:\u001b[36m321\u001b[0m - \u001b[1m||Saving dataset to parquet\u001b[0m\n",
      "\u001b[32m2025-08-02 11:24:59.363\u001b[0m | \u001b[1mINFO    \u001b[0m | \u001b[36moutboxml.data_subsets\u001b[0m:\u001b[36mdataset\u001b[0m:\u001b[36m148\u001b[0m - \u001b[1mReading data from parquet\u001b[0m\n",
      "\u001b[32m2025-08-02 11:24:59.366\u001b[0m | \u001b[34m\u001b[1mDEBUG   \u001b[0m | \u001b[36moutboxml.core.config_builders\u001b[0m:\u001b[36mbuild\u001b[0m:\u001b[36m63\u001b[0m - \u001b[34m\u001b[1mFeature builder||Surface Area\u001b[0m\n",
      "\u001b[32m2025-08-02 11:24:59.367\u001b[0m | \u001b[34m\u001b[1mDEBUG   \u001b[0m | \u001b[36moutboxml.core.config_builders\u001b[0m:\u001b[36mbuild\u001b[0m:\u001b[36m63\u001b[0m - \u001b[34m\u001b[1mFeature builder||Wall Area\u001b[0m\n",
      "\u001b[32m2025-08-02 11:24:59.368\u001b[0m | \u001b[34m\u001b[1mDEBUG   \u001b[0m | \u001b[36moutboxml.core.config_builders\u001b[0m:\u001b[36mbuild\u001b[0m:\u001b[36m63\u001b[0m - \u001b[34m\u001b[1mFeature builder||Orientation\u001b[0m\n",
      "\u001b[32m2025-08-02 11:24:59.368\u001b[0m | \u001b[34m\u001b[1mDEBUG   \u001b[0m | \u001b[36moutboxml.core.config_builders\u001b[0m:\u001b[36mbuild\u001b[0m:\u001b[36m63\u001b[0m - \u001b[34m\u001b[1mFeature builder||Glazing Area\u001b[0m\n",
      "\u001b[32m2025-08-02 11:24:59.369\u001b[0m | \u001b[34m\u001b[1mDEBUG   \u001b[0m | \u001b[36moutboxml.core.config_builders\u001b[0m:\u001b[36mbuild\u001b[0m:\u001b[36m63\u001b[0m - \u001b[34m\u001b[1mFeature builder||Glazing Area Distribution\u001b[0m\n",
      "\u001b[32m2025-08-02 11:24:59.370\u001b[0m | \u001b[34m\u001b[1mDEBUG   \u001b[0m | \u001b[36moutboxml.core.config_builders\u001b[0m:\u001b[36mbuild\u001b[0m:\u001b[36m63\u001b[0m - \u001b[34m\u001b[1mFeature builder||Cooling Load\u001b[0m\n",
      "\u001b[32m2025-08-02 11:24:59.374\u001b[0m | \u001b[1mINFO    \u001b[0m | \u001b[36moutboxml.core.data_prepare\u001b[0m:\u001b[36mprepare_numerical_feature_series\u001b[0m:\u001b[36m490\u001b[0m - \u001b[1mCooling Load || Исправлено значений вне интервала: 2\u001b[0m\n",
      "\u001b[32m2025-08-02 11:24:59.376\u001b[0m | \u001b[1mINFO    \u001b[0m | \u001b[36moutboxml.core.data_prepare\u001b[0m:\u001b[36mprepare_dataset\u001b[0m:\u001b[36m659\u001b[0m - \u001b[1mFeature preparation||Encoding from config WoE_num_to_num\u001b[0m\n",
      "\u001b[32m2025-08-02 11:24:59.376\u001b[0m | \u001b[1mINFO    \u001b[0m | \u001b[36moutboxml.core.data_prepare\u001b[0m:\u001b[36mfeature_encoding_series\u001b[0m:\u001b[36m193\u001b[0m - \u001b[1mSurface Area || Encoding || WoE numerical to numerical\u001b[0m\n",
      "\u001b[32m2025-08-02 11:24:59.518\u001b[0m | \u001b[1mINFO    \u001b[0m | \u001b[36moutboxml.core.data_prepare\u001b[0m:\u001b[36mprepare_dataset\u001b[0m:\u001b[36m659\u001b[0m - \u001b[1mFeature preparation||Encoding from config WoE_num_to_num\u001b[0m\n",
      "\u001b[32m2025-08-02 11:24:59.519\u001b[0m | \u001b[1mINFO    \u001b[0m | \u001b[36moutboxml.core.data_prepare\u001b[0m:\u001b[36mfeature_encoding_series\u001b[0m:\u001b[36m193\u001b[0m - \u001b[1mWall Area || Encoding || WoE numerical to numerical\u001b[0m\n",
      "\u001b[32m2025-08-02 11:24:59.556\u001b[0m | \u001b[1mINFO    \u001b[0m | \u001b[36moutboxml.core.data_prepare\u001b[0m:\u001b[36mprepare_dataset\u001b[0m:\u001b[36m659\u001b[0m - \u001b[1mFeature preparation||Encoding from config WoE_num_to_num\u001b[0m\n",
      "\u001b[32m2025-08-02 11:24:59.557\u001b[0m | \u001b[1mINFO    \u001b[0m | \u001b[36moutboxml.core.data_prepare\u001b[0m:\u001b[36mfeature_encoding_series\u001b[0m:\u001b[36m193\u001b[0m - \u001b[1mOrientation || Encoding || WoE numerical to numerical\u001b[0m\n",
      "\u001b[32m2025-08-02 11:24:59.584\u001b[0m | \u001b[1mINFO    \u001b[0m | \u001b[36moutboxml.core.data_prepare\u001b[0m:\u001b[36mprepare_dataset\u001b[0m:\u001b[36m659\u001b[0m - \u001b[1mFeature preparation||Encoding from config WoE_num_to_num\u001b[0m\n",
      "\u001b[32m2025-08-02 11:24:59.585\u001b[0m | \u001b[1mINFO    \u001b[0m | \u001b[36moutboxml.core.data_prepare\u001b[0m:\u001b[36mfeature_encoding_series\u001b[0m:\u001b[36m193\u001b[0m - \u001b[1mGlazing Area || Encoding || WoE numerical to numerical\u001b[0m\n",
      "\u001b[32m2025-08-02 11:24:59.610\u001b[0m | \u001b[1mINFO    \u001b[0m | \u001b[36moutboxml.core.data_prepare\u001b[0m:\u001b[36mprepare_dataset\u001b[0m:\u001b[36m659\u001b[0m - \u001b[1mFeature preparation||Encoding from config WoE_num_to_num\u001b[0m\n",
      "\u001b[32m2025-08-02 11:24:59.611\u001b[0m | \u001b[1mINFO    \u001b[0m | \u001b[36moutboxml.core.data_prepare\u001b[0m:\u001b[36mfeature_encoding_series\u001b[0m:\u001b[36m193\u001b[0m - \u001b[1mGlazing Area Distribution || Encoding || WoE numerical to numerical\u001b[0m\n",
      "\u001b[32m2025-08-02 11:24:59.642\u001b[0m | \u001b[1mINFO    \u001b[0m | \u001b[36moutboxml.core.data_prepare\u001b[0m:\u001b[36mprepare_dataset\u001b[0m:\u001b[36m659\u001b[0m - \u001b[1mFeature preparation||Encoding from config WoE_num_to_num\u001b[0m\n",
      "\u001b[32m2025-08-02 11:24:59.642\u001b[0m | \u001b[1mINFO    \u001b[0m | \u001b[36moutboxml.core.data_prepare\u001b[0m:\u001b[36mfeature_encoding_series\u001b[0m:\u001b[36m193\u001b[0m - \u001b[1mCooling Load || Encoding || WoE numerical to numerical\u001b[0m\n",
      "\u001b[32m2025-08-02 11:26:49.349\u001b[0m | \u001b[34m\u001b[1mDEBUG   \u001b[0m | \u001b[36moutboxml.data_subsets\u001b[0m:\u001b[36m_prepare_subset\u001b[0m:\u001b[36m209\u001b[0m - \u001b[34m\u001b[1mModel heating || Data preparation finished\u001b[0m\n",
      "\u001b[32m2025-08-02 11:26:49.349\u001b[0m | \u001b[1mINFO    \u001b[0m | \u001b[36moutboxml.data_subsets\u001b[0m:\u001b[36msave_subset_to_pickle\u001b[0m:\u001b[36m308\u001b[0m - \u001b[1mheating||Saving subset to pickle\u001b[0m\n",
      "\u001b[32m2025-08-02 11:26:49.351\u001b[0m | \u001b[1mINFO    \u001b[0m | \u001b[36moutboxml.data_subsets\u001b[0m:\u001b[36mload_subsets_from_pickle\u001b[0m:\u001b[36m288\u001b[0m - \u001b[1mheating||Loading subset from pickle\u001b[0m\n",
      "\u001b[32m2025-08-02 11:26:49.352\u001b[0m | \u001b[34m\u001b[1mDEBUG   \u001b[0m | \u001b[36moutboxml.feature_selection\u001b[0m:\u001b[36mselect_features\u001b[0m:\u001b[36m231\u001b[0m - \u001b[34m\u001b[1mFeature selection||Preparation finished\u001b[0m\n",
      "\u001b[32m2025-08-02 11:26:49.353\u001b[0m | \u001b[34m\u001b[1mDEBUG   \u001b[0m | \u001b[36moutboxml.feature_selection\u001b[0m:\u001b[36m__fit_catboost\u001b[0m:\u001b[36m84\u001b[0m - \u001b[34m\u001b[1mFeature selection||Fitting catboost\u001b[0m\n",
      "\u001b[32m2025-08-02 11:26:49.355\u001b[0m | \u001b[1mINFO    \u001b[0m | \u001b[36moutboxml.feature_selection\u001b[0m:\u001b[36m__load_model\u001b[0m:\u001b[36m188\u001b[0m - \u001b[1mRegression\u001b[0m\n",
      "\u001b[32m2025-08-02 11:26:49.527\u001b[0m | \u001b[1mINFO    \u001b[0m | \u001b[36moutboxml.feature_selection\u001b[0m:\u001b[36mfeature_selection\u001b[0m:\u001b[36m69\u001b[0m - \u001b[1mChoosing top 10 features\u001b[0m\n",
      "\u001b[32m2025-08-02 11:26:49.528\u001b[0m | \u001b[34m\u001b[1mDEBUG   \u001b[0m | \u001b[36moutboxml.feature_selection\u001b[0m:\u001b[36mcalculate_correlation\u001b[0m:\u001b[36m113\u001b[0m - \u001b[34m\u001b[1mFeature selection||Calculating correlations\u001b[0m\n",
      "\u001b[32m2025-08-02 11:26:51.163\u001b[0m | \u001b[1mINFO    \u001b[0m | \u001b[36moutboxml.feature_selection\u001b[0m:\u001b[36mcalculate_correlation\u001b[0m:\u001b[36m121\u001b[0m - \u001b[1mDropping ['Roof Area', 'Surface Area', 'Wall Area']\u001b[0m\n",
      "\u001b[32m2025-08-02 11:26:51.165\u001b[0m | \u001b[1mINFO    \u001b[0m | \u001b[36moutboxml.feature_selection\u001b[0m:\u001b[36mfeature_selection\u001b[0m:\u001b[36m75\u001b[0m - \u001b[1mFeatures to drop||['Roof Area', 'Surface Area', 'Wall Area']\u001b[0m\n",
      "\u001b[32m2025-08-02 11:26:51.167\u001b[0m | \u001b[34m\u001b[1mDEBUG   \u001b[0m | \u001b[36moutboxml.feature_selection\u001b[0m:\u001b[36mcalculate_stability\u001b[0m:\u001b[36m148\u001b[0m - \u001b[34m\u001b[1mCV for feature Orientation\u001b[0m\n",
      "\u001b[32m2025-08-02 11:26:51.168\u001b[0m | \u001b[1mINFO    \u001b[0m | \u001b[36moutboxml.feature_selection\u001b[0m:\u001b[36m__load_model\u001b[0m:\u001b[36m188\u001b[0m - \u001b[1mRegression\u001b[0m\n",
      "\u001b[32m2025-08-02 11:26:51.236\u001b[0m | \u001b[1mINFO    \u001b[0m | \u001b[36moutboxml.feature_selection\u001b[0m:\u001b[36mcalculate_stability\u001b[0m:\u001b[36m158\u001b[0m - \u001b[1mCV dif for feature||0.21043795234780502\u001b[0m\n",
      "\u001b[32m2025-08-02 11:26:51.239\u001b[0m | \u001b[34m\u001b[1mDEBUG   \u001b[0m | \u001b[36moutboxml.feature_selection\u001b[0m:\u001b[36mcalculate_stability\u001b[0m:\u001b[36m148\u001b[0m - \u001b[34m\u001b[1mCV for feature Glazing Area\u001b[0m\n",
      "\u001b[32m2025-08-02 11:26:51.240\u001b[0m | \u001b[1mINFO    \u001b[0m | \u001b[36moutboxml.feature_selection\u001b[0m:\u001b[36m__load_model\u001b[0m:\u001b[36m188\u001b[0m - \u001b[1mRegression\u001b[0m\n",
      "\u001b[32m2025-08-02 11:26:51.284\u001b[0m | \u001b[1mINFO    \u001b[0m | \u001b[36moutboxml.feature_selection\u001b[0m:\u001b[36mcalculate_stability\u001b[0m:\u001b[36m158\u001b[0m - \u001b[1mCV dif for feature||0.18779474233011642\u001b[0m\n",
      "\u001b[32m2025-08-02 11:26:51.285\u001b[0m | \u001b[34m\u001b[1mDEBUG   \u001b[0m | \u001b[36moutboxml.feature_selection\u001b[0m:\u001b[36mcalculate_stability\u001b[0m:\u001b[36m148\u001b[0m - \u001b[34m\u001b[1mCV for feature Glazing Area Distribution\u001b[0m\n",
      "\u001b[32m2025-08-02 11:26:51.286\u001b[0m | \u001b[1mINFO    \u001b[0m | \u001b[36moutboxml.feature_selection\u001b[0m:\u001b[36m__load_model\u001b[0m:\u001b[36m188\u001b[0m - \u001b[1mRegression\u001b[0m\n",
      "\u001b[32m2025-08-02 11:26:51.329\u001b[0m | \u001b[1mINFO    \u001b[0m | \u001b[36moutboxml.feature_selection\u001b[0m:\u001b[36mcalculate_stability\u001b[0m:\u001b[36m158\u001b[0m - \u001b[1mCV dif for feature||0.1904064968949364\u001b[0m\n",
      "\u001b[32m2025-08-02 11:26:51.330\u001b[0m | \u001b[34m\u001b[1mDEBUG   \u001b[0m | \u001b[36moutboxml.feature_selection\u001b[0m:\u001b[36mcalculate_stability\u001b[0m:\u001b[36m148\u001b[0m - \u001b[34m\u001b[1mCV for feature Cooling Load\u001b[0m\n",
      "\u001b[32m2025-08-02 11:26:51.331\u001b[0m | \u001b[1mINFO    \u001b[0m | \u001b[36moutboxml.feature_selection\u001b[0m:\u001b[36m__load_model\u001b[0m:\u001b[36m188\u001b[0m - \u001b[1mRegression\u001b[0m\n",
      "\u001b[32m2025-08-02 11:26:51.390\u001b[0m | \u001b[1mINFO    \u001b[0m | \u001b[36moutboxml.feature_selection\u001b[0m:\u001b[36mcalculate_stability\u001b[0m:\u001b[36m158\u001b[0m - \u001b[1mCV dif for feature||0.4987630719219887\u001b[0m\n",
      "\u001b[32m2025-08-02 11:26:51.391\u001b[0m | \u001b[34m\u001b[1mDEBUG   \u001b[0m | \u001b[36moutboxml.feature_selection\u001b[0m:\u001b[36mcalculate_stability\u001b[0m:\u001b[36m148\u001b[0m - \u001b[34m\u001b[1mCV for feature Overall Height\u001b[0m\n",
      "\u001b[32m2025-08-02 11:26:51.392\u001b[0m | \u001b[1mINFO    \u001b[0m | \u001b[36moutboxml.feature_selection\u001b[0m:\u001b[36m__load_model\u001b[0m:\u001b[36m188\u001b[0m - \u001b[1mRegression\u001b[0m\n",
      "\u001b[32m2025-08-02 11:26:51.433\u001b[0m | \u001b[1mINFO    \u001b[0m | \u001b[36moutboxml.feature_selection\u001b[0m:\u001b[36mcalculate_stability\u001b[0m:\u001b[36m158\u001b[0m - \u001b[1mCV dif for feature||0.18551785222266656\u001b[0m\n",
      "\u001b[32m2025-08-02 11:26:51.434\u001b[0m | \u001b[34m\u001b[1mDEBUG   \u001b[0m | \u001b[36moutboxml.feature_selection\u001b[0m:\u001b[36m_filter_data\u001b[0m:\u001b[36m396\u001b[0m - \u001b[34m\u001b[1mFeature selection||Preparing results\u001b[0m\n",
      "\u001b[32m2025-08-02 11:26:51.434\u001b[0m | \u001b[1mINFO    \u001b[0m | \u001b[36moutboxml.feature_selection\u001b[0m:\u001b[36m_filter_data\u001b[0m:\u001b[36m401\u001b[0m - \u001b[1mSelected features: ['Orientation', 'Glazing Area Distribution', 'Glazing Area', 'Cooling Load']\u001b[0m\n",
      "\u001b[32m2025-08-02 11:26:51.435\u001b[0m | \u001b[1mINFO    \u001b[0m | \u001b[36moutboxml.feature_selection\u001b[0m:\u001b[36m_filter_data\u001b[0m:\u001b[36m408\u001b[0m - \u001b[1mColumns to drop||['Wall Area', 'Surface Area']\u001b[0m\n",
      "\u001b[32m2025-08-02 11:26:51.437\u001b[0m | \u001b[1mINFO    \u001b[0m | \u001b[36moutboxml.feature_selection\u001b[0m:\u001b[36m_filter_data\u001b[0m:\u001b[36m418\u001b[0m - \u001b[1m['Orientation', 'Relative Compactness', 'Roof Area', 'Glazing Area Distribution', 'Cooling Load', 'Glazing Area']\u001b[0m\n",
      "\u001b[32m2025-08-02 11:26:51.437\u001b[0m | \u001b[1mINFO    \u001b[0m | \u001b[36moutboxml.feature_selection\u001b[0m:\u001b[36m_filter_data\u001b[0m:\u001b[36m419\u001b[0m - \u001b[1mFeatures for model||['Orientation', 'Relative Compactness', 'Roof Area', 'Glazing Area Distribution', 'Cooling Load', 'Glazing Area']\u001b[0m\n",
      "\u001b[32m2025-08-02 11:26:51.439\u001b[0m | \u001b[1mINFO    \u001b[0m | \u001b[36moutboxml.data_subsets\u001b[0m:\u001b[36msave_subset_to_pickle\u001b[0m:\u001b[36m308\u001b[0m - \u001b[1mheating||Saving subset to pickle\u001b[0m\n",
      "\u001b[32m2025-08-02 11:26:51.440\u001b[0m | \u001b[34m\u001b[1mDEBUG   \u001b[0m | \u001b[36moutboxml.automl_manager\u001b[0m:\u001b[36mfeature_selection\u001b[0m:\u001b[36m309\u001b[0m - \u001b[34m\u001b[1mFeature selection||Finished\u001b[0m\n",
      "\u001b[32m2025-08-02 11:26:51.440\u001b[0m | \u001b[34m\u001b[1mDEBUG   \u001b[0m | \u001b[36moutboxml.hyperparameter_tuning\u001b[0m:\u001b[36mbest_params\u001b[0m:\u001b[36m131\u001b[0m - \u001b[34m\u001b[1mHP Tuning||Preparing data\u001b[0m\n",
      "\u001b[32m2025-08-02 11:26:51.441\u001b[0m | \u001b[1mINFO    \u001b[0m | \u001b[36moutboxml.data_subsets\u001b[0m:\u001b[36m_check_prepared_subset\u001b[0m:\u001b[36m243\u001b[0m - \u001b[1mFile /home/jovyan/work/results/heating_v1_subset.pickle already exists.\u001b[0m\n",
      "\u001b[32m2025-08-02 11:26:51.441\u001b[0m | \u001b[1mINFO    \u001b[0m | \u001b[36moutboxml.data_subsets\u001b[0m:\u001b[36mload_subsets_from_pickle\u001b[0m:\u001b[36m288\u001b[0m - \u001b[1mheating||Loading subset from pickle\u001b[0m\n",
      "\u001b[32m2025-08-02 11:26:51.443\u001b[0m | \u001b[1mINFO    \u001b[0m | \u001b[36moutboxml.hyperparameter_tuning\u001b[0m:\u001b[36m_load_model_from_config\u001b[0m:\u001b[36m242\u001b[0m - \u001b[1mLoading model and objective from config\u001b[0m\n",
      "\u001b[32m2025-08-02 11:26:51.444\u001b[0m | \u001b[34m\u001b[1mDEBUG   \u001b[0m | \u001b[36moutboxml.hyperparameter_tuning\u001b[0m:\u001b[36mbest_params\u001b[0m:\u001b[36m138\u001b[0m - \u001b[34m\u001b[1mOptimizing...\u001b[0m\n",
      "[I 2025-08-02 11:26:51,445] A new study created in memory with name: no-name-8a6eac57-3de6-49fc-89b0-8d787f9c3bdb\n",
      "  0%|          | 0/100 [00:00<?, ?it/s]\u001b[32m2025-08-02 11:26:51.461\u001b[0m | \u001b[1mINFO    \u001b[0m | \u001b[36moutboxml.hyperparameter_tuning\u001b[0m:\u001b[36m_prepare_catboost\u001b[0m:\u001b[36m176\u001b[0m - \u001b[1mNo objective in config||Using from init\u001b[0m\n",
      "\u001b[32m2025-08-02 11:26:51.463\u001b[0m | \u001b[1mINFO    \u001b[0m | \u001b[36moutboxml.hyperparameter_tuning\u001b[0m:\u001b[36m_prepare_catboost\u001b[0m:\u001b[36m176\u001b[0m - \u001b[1mNo objective in config||Using from init\u001b[0m\n",
      "\u001b[32m2025-08-02 11:26:51.470\u001b[0m | \u001b[1mINFO    \u001b[0m | \u001b[36moutboxml.hyperparameter_tuning\u001b[0m:\u001b[36m_prepare_catboost\u001b[0m:\u001b[36m176\u001b[0m - \u001b[1mNo objective in config||Using from init\u001b[0m\n",
      "\u001b[32m2025-08-02 11:26:51.473\u001b[0m | \u001b[1mINFO    \u001b[0m | \u001b[36moutboxml.hyperparameter_tuning\u001b[0m:\u001b[36m_prepare_catboost\u001b[0m:\u001b[36m176\u001b[0m - \u001b[1mNo objective in config||Using from init\u001b[0m\n",
      "\u001b[32m2025-08-02 11:26:51.473\u001b[0m | \u001b[1mINFO    \u001b[0m | \u001b[36moutboxml.hyperparameter_tuning\u001b[0m:\u001b[36m_prepare_catboost\u001b[0m:\u001b[36m176\u001b[0m - \u001b[1mNo objective in config||Using from init\u001b[0m\n",
      "\u001b[32m2025-08-02 11:26:51.475\u001b[0m | \u001b[1mINFO    \u001b[0m | \u001b[36moutboxml.hyperparameter_tuning\u001b[0m:\u001b[36m_prepare_catboost\u001b[0m:\u001b[36m176\u001b[0m - \u001b[1mNo objective in config||Using from init\u001b[0m\n",
      "\u001b[32m2025-08-02 11:26:51.481\u001b[0m | \u001b[1mINFO    \u001b[0m | \u001b[36moutboxml.hyperparameter_tuning\u001b[0m:\u001b[36m_prepare_catboost\u001b[0m:\u001b[36m176\u001b[0m - \u001b[1mNo objective in config||Using from init\u001b[0m\n",
      "\u001b[32m2025-08-02 11:26:51.486\u001b[0m | \u001b[1mINFO    \u001b[0m | \u001b[36moutboxml.hyperparameter_tuning\u001b[0m:\u001b[36m_prepare_catboost\u001b[0m:\u001b[36m176\u001b[0m - \u001b[1mNo objective in config||Using from init\u001b[0m\n",
      "\u001b[32m2025-08-02 11:26:51.491\u001b[0m | \u001b[1mINFO    \u001b[0m | \u001b[36moutboxml.hyperparameter_tuning\u001b[0m:\u001b[36m_prepare_catboost\u001b[0m:\u001b[36m176\u001b[0m - \u001b[1mNo objective in config||Using from init\u001b[0m\n",
      "\u001b[32m2025-08-02 11:26:51.492\u001b[0m | \u001b[1mINFO    \u001b[0m | \u001b[36moutboxml.hyperparameter_tuning\u001b[0m:\u001b[36m_prepare_catboost\u001b[0m:\u001b[36m176\u001b[0m - \u001b[1mNo objective in config||Using from init\u001b[0m\n",
      "\u001b[32m2025-08-02 11:26:51.492\u001b[0m | \u001b[1mINFO    \u001b[0m | \u001b[36moutboxml.hyperparameter_tuning\u001b[0m:\u001b[36m_prepare_catboost\u001b[0m:\u001b[36m176\u001b[0m - \u001b[1mNo objective in config||Using from init\u001b[0m\n",
      "\u001b[32m2025-08-02 11:26:51.494\u001b[0m | \u001b[1mINFO    \u001b[0m | \u001b[36moutboxml.hyperparameter_tuning\u001b[0m:\u001b[36m_prepare_catboost\u001b[0m:\u001b[36m176\u001b[0m - \u001b[1mNo objective in config||Using from init\u001b[0m\n",
      "Best trial: 6. Best value: -2.5224:   1%|          | 1/100 [00:00<00:43,  2.27it/s]\u001b[32m2025-08-02 11:26:51.894\u001b[0m | \u001b[1mINFO    \u001b[0m | \u001b[36moutboxml.hyperparameter_tuning\u001b[0m:\u001b[36m_prepare_catboost\u001b[0m:\u001b[36m176\u001b[0m - \u001b[1mNo objective in config||Using from init\u001b[0m\n"
     ]
    },
    {
     "name": "stdout",
     "output_type": "stream",
     "text": [
      "[I 2025-08-02 11:26:51,884] Trial 6 finished with value: -2.522400649650226 and parameters: {'iterations': 200, 'depth': 3, 'learning_rate': 0.01463840903716925, 'l2_leaf_reg': 0.00011169233881269032, 'subsample': 0.7666216620334019, 'colsample_bylevel': 0.3266995091246718, 'min_data_in_leaf': 21}. Best is trial 6 with value: -2.522400649650226.\n"
     ]
    },
    {
     "name": "stderr",
     "output_type": "stream",
     "text": [
      "Best trial: 12. Best value: -2.2118:   2%|▏         | 2/100 [00:00<00:33,  2.96it/s]\u001b[32m2025-08-02 11:26:52.164\u001b[0m | \u001b[1mINFO    \u001b[0m | \u001b[36moutboxml.hyperparameter_tuning\u001b[0m:\u001b[36m_prepare_catboost\u001b[0m:\u001b[36m176\u001b[0m - \u001b[1mNo objective in config||Using from init\u001b[0m\n",
      "Best trial: 11. Best value: -1.52134:   2%|▏         | 2/100 [00:00<00:33,  2.96it/s]\u001b[32m2025-08-02 11:26:52.180\u001b[0m | \u001b[1mINFO    \u001b[0m | \u001b[36moutboxml.hyperparameter_tuning\u001b[0m:\u001b[36m_prepare_catboost\u001b[0m:\u001b[36m176\u001b[0m - \u001b[1mNo objective in config||Using from init\u001b[0m\n",
      "Best trial: 2. Best value: -1.51985:   4%|▍         | 4/100 [00:00<00:17,  5.50it/s] \u001b[32m2025-08-02 11:26:52.337\u001b[0m | \u001b[1mINFO    \u001b[0m | \u001b[36moutboxml.hyperparameter_tuning\u001b[0m:\u001b[36m_prepare_catboost\u001b[0m:\u001b[36m176\u001b[0m - \u001b[1mNo objective in config||Using from init\u001b[0m\n",
      "Best trial: 2. Best value: -1.51985:   4%|▍         | 4/100 [00:00<00:17,  5.50it/s]\u001b[32m2025-08-02 11:26:52.341\u001b[0m | \u001b[1mINFO    \u001b[0m | \u001b[36moutboxml.hyperparameter_tuning\u001b[0m:\u001b[36m_prepare_catboost\u001b[0m:\u001b[36m176\u001b[0m - \u001b[1mNo objective in config||Using from init\u001b[0m\n"
     ]
    },
    {
     "name": "stdout",
     "output_type": "stream",
     "text": [
      "[I 2025-08-02 11:26:52,145] Trial 12 finished with value: -2.2118023954902992 and parameters: {'iterations': 200, 'depth': 1, 'learning_rate': 0.029978092741602277, 'l2_leaf_reg': 0.000547155176462116, 'subsample': 0.35155436379189353, 'colsample_bylevel': 0.9274482703127226, 'min_data_in_leaf': 61}. Best is trial 12 with value: -2.2118023954902992.\n",
      "[I 2025-08-02 11:26:52,168] Trial 11 finished with value: -1.521340414054336 and parameters: {'iterations': 400, 'depth': 3, 'learning_rate': 0.063654493949016, 'l2_leaf_reg': 2.9944422704012912e-05, 'subsample': 0.8478639632095928, 'colsample_bylevel': 0.4100946734665307, 'min_data_in_leaf': 91}. Best is trial 11 with value: -1.521340414054336.\n",
      "[I 2025-08-02 11:26:52,284] Trial 2 finished with value: -1.5198513966955296 and parameters: {'iterations': 400, 'depth': 13, 'learning_rate': 0.03946198370494126, 'l2_leaf_reg': 7.380254701865601e-05, 'subsample': 0.8249536336778068, 'colsample_bylevel': 0.19839481351827326, 'min_data_in_leaf': 101}. Best is trial 2 with value: -1.5198513966955296.\n",
      "[I 2025-08-02 11:26:52,314] Trial 9 finished with value: -1.8021922391000598 and parameters: {'iterations': 900, 'depth': 15, 'learning_rate': 0.021556278952851227, 'l2_leaf_reg': 0.006236360333292486, 'subsample': 0.9716488152273718, 'colsample_bylevel': 0.09865593067746578, 'min_data_in_leaf': 11}. Best is trial 2 with value: -1.5198513966955296.\n"
     ]
    },
    {
     "name": "stderr",
     "output_type": "stream",
     "text": [
      "Best trial: 5. Best value: -1.40798:   5%|▌         | 5/100 [00:00<00:17,  5.50it/s]\u001b[32m2025-08-02 11:26:52.386\u001b[0m | \u001b[1mINFO    \u001b[0m | \u001b[36moutboxml.hyperparameter_tuning\u001b[0m:\u001b[36m_prepare_catboost\u001b[0m:\u001b[36m176\u001b[0m - \u001b[1mNo objective in config||Using from init\u001b[0m\n"
     ]
    },
    {
     "name": "stdout",
     "output_type": "stream",
     "text": [
      "[I 2025-08-02 11:26:52,374] Trial 5 finished with value: -1.4079755261939628 and parameters: {'iterations': 500, 'depth': 3, 'learning_rate': 0.026576901692794305, 'l2_leaf_reg': 1.5558974193028638, 'subsample': 0.8842090093242346, 'colsample_bylevel': 0.9368862403779877, 'min_data_in_leaf': 101}. Best is trial 5 with value: -1.4079755261939628.\n"
     ]
    },
    {
     "name": "stderr",
     "output_type": "stream",
     "text": [
      "Best trial: 5. Best value: -1.40798:   7%|▋         | 7/100 [00:01<00:12,  7.72it/s]\u001b[32m2025-08-02 11:26:52.615\u001b[0m | \u001b[1mINFO    \u001b[0m | \u001b[36moutboxml.hyperparameter_tuning\u001b[0m:\u001b[36m_prepare_catboost\u001b[0m:\u001b[36m176\u001b[0m - \u001b[1mNo objective in config||Using from init\u001b[0m\n",
      "                                                                                    \u001b[32m2025-08-02 11:26:52.763\u001b[0m | \u001b[1mINFO    \u001b[0m | \u001b[36moutboxml.hyperparameter_tuning\u001b[0m:\u001b[36m_prepare_catboost\u001b[0m:\u001b[36m176\u001b[0m - \u001b[1mNo objective in config||Using from init\u001b[0m\n",
      "Best trial: 5. Best value: -1.40798:   8%|▊         | 8/100 [00:01<00:12,  7.39it/s]\u001b[32m2025-08-02 11:26:52.786\u001b[0m | \u001b[1mINFO    \u001b[0m | \u001b[36moutboxml.hyperparameter_tuning\u001b[0m:\u001b[36m_prepare_catboost\u001b[0m:\u001b[36m176\u001b[0m - \u001b[1mNo objective in config||Using from init\u001b[0m\n"
     ]
    },
    {
     "name": "stdout",
     "output_type": "stream",
     "text": [
      "[I 2025-08-02 11:26:52,586] Trial 7 finished with value: -2.149885165181726 and parameters: {'iterations': 1100, 'depth': 3, 'learning_rate': 0.010482639606846013, 'l2_leaf_reg': 42.53216803885798, 'subsample': 0.4257630457498935, 'colsample_bylevel': 0.2080862539025098, 'min_data_in_leaf': 91}. Best is trial 5 with value: -1.4079755261939628.\n",
      "[I 2025-08-02 11:26:52,747] Trial 1 finished with value: -1.6926358335687262 and parameters: {'iterations': 700, 'depth': 9, 'learning_rate': 0.015483619937363196, 'l2_leaf_reg': 0.019073093225597564, 'subsample': 0.5071577294023341, 'colsample_bylevel': 0.25379224560592384, 'min_data_in_leaf': 11}. Best is trial 5 with value: -1.4079755261939628.\n",
      "[I 2025-08-02 11:26:52,749] Trial 3 finished with value: -1.5141002866940234 and parameters: {'iterations': 1100, 'depth': 3, 'learning_rate': 0.08286452721152798, 'l2_leaf_reg': 42.07088542834268, 'subsample': 0.11324696618043252, 'colsample_bylevel': 0.42960036713734107, 'min_data_in_leaf': 71}. Best is trial 5 with value: -1.4079755261939628.\n"
     ]
    },
    {
     "name": "stderr",
     "output_type": "stream",
     "text": [
      "Best trial: 5. Best value: -1.40798:  10%|█         | 10/100 [00:01<00:09,  9.27it/s]\u001b[32m2025-08-02 11:26:52.939\u001b[0m | \u001b[1mINFO    \u001b[0m | \u001b[36moutboxml.hyperparameter_tuning\u001b[0m:\u001b[36m_prepare_catboost\u001b[0m:\u001b[36m176\u001b[0m - \u001b[1mNo objective in config||Using from init\u001b[0m\n",
      "Best trial: 5. Best value: -1.40798:  12%|█▏        | 12/100 [00:01<00:08, 10.85it/s]"
     ]
    },
    {
     "name": "stdout",
     "output_type": "stream",
     "text": [
      "[I 2025-08-02 11:26:52,882] Trial 15 finished with value: -1.5428036134837642 and parameters: {'iterations': 300, 'depth': 3, 'learning_rate': 0.0597205940300544, 'l2_leaf_reg': 22.207231745151095, 'subsample': 0.4944314980558431, 'colsample_bylevel': 0.4955061036158619, 'min_data_in_leaf': 81}. Best is trial 5 with value: -1.4079755261939628.\n",
      "[I 2025-08-02 11:26:52,970] Trial 0 finished with value: -1.740062400456348 and parameters: {'iterations': 1100, 'depth': 3, 'learning_rate': 0.012693420930406778, 'l2_leaf_reg': 87.62563535998723, 'subsample': 0.3217562047340343, 'colsample_bylevel': 0.6053296846276504, 'min_data_in_leaf': 61}. Best is trial 5 with value: -1.4079755261939628.\n",
      "[I 2025-08-02 11:26:53,009] Trial 13 finished with value: -1.6589622353228755 and parameters: {'iterations': 800, 'depth': 3, 'learning_rate': 0.03310488681409916, 'l2_leaf_reg': 0.0012265802690904699, 'subsample': 0.5657692044371443, 'colsample_bylevel': 0.09906467829673839, 'min_data_in_leaf': 31}. Best is trial 5 with value: -1.4079755261939628.\n"
     ]
    },
    {
     "name": "stderr",
     "output_type": "stream",
     "text": [
      "\u001b[32m2025-08-02 11:26:53.116\u001b[0m | \u001b[1mINFO    \u001b[0m | \u001b[36moutboxml.hyperparameter_tuning\u001b[0m:\u001b[36m_prepare_catboost\u001b[0m:\u001b[36m176\u001b[0m - \u001b[1mNo objective in config||Using from init\u001b[0m\n",
      "\u001b[32m2025-08-02 11:26:53.122\u001b[0m | \u001b[1mINFO    \u001b[0m | \u001b[36moutboxml.hyperparameter_tuning\u001b[0m:\u001b[36m_prepare_catboost\u001b[0m:\u001b[36m176\u001b[0m - \u001b[1mNo objective in config||Using from init\u001b[0m\n",
      "Best trial: 5. Best value: -1.40798:  12%|█▏        | 12/100 [00:01<00:08, 10.85it/s]\u001b[32m2025-08-02 11:26:53.190\u001b[0m | \u001b[1mINFO    \u001b[0m | \u001b[36moutboxml.hyperparameter_tuning\u001b[0m:\u001b[36m_prepare_catboost\u001b[0m:\u001b[36m176\u001b[0m - \u001b[1mNo objective in config||Using from init\u001b[0m\n",
      "Best trial: 5. Best value: -1.40798:  14%|█▍        | 14/100 [00:01<00:09,  9.23it/s]"
     ]
    },
    {
     "name": "stdout",
     "output_type": "stream",
     "text": [
      "[I 2025-08-02 11:26:53,127] Trial 10 finished with value: -1.69128572715592 and parameters: {'iterations': 900, 'depth': 9, 'learning_rate': 0.032533209679365904, 'l2_leaf_reg': 1.57738253795799e-05, 'subsample': 0.7082371042224123, 'colsample_bylevel': 0.26073829477406585, 'min_data_in_leaf': 21}. Best is trial 5 with value: -1.4079755261939628.\n",
      "[I 2025-08-02 11:26:53,289] Trial 14 finished with value: -1.4780083610116446 and parameters: {'iterations': 1000, 'depth': 1, 'learning_rate': 0.07866844389443027, 'l2_leaf_reg': 0.0001759852161143551, 'subsample': 0.8025818770188701, 'colsample_bylevel': 0.5577863709478448, 'min_data_in_leaf': 51}. Best is trial 5 with value: -1.4079755261939628.\n"
     ]
    },
    {
     "name": "stderr",
     "output_type": "stream",
     "text": [
      "\u001b[32m2025-08-02 11:26:53.358\u001b[0m | \u001b[1mINFO    \u001b[0m | \u001b[36moutboxml.hyperparameter_tuning\u001b[0m:\u001b[36m_prepare_catboost\u001b[0m:\u001b[36m176\u001b[0m - \u001b[1mNo objective in config||Using from init\u001b[0m\n",
      "Best trial: 5. Best value: -1.40798:  14%|█▍        | 14/100 [00:02<00:09,  9.23it/s]\u001b[32m2025-08-02 11:26:53.530\u001b[0m | \u001b[1mINFO    \u001b[0m | \u001b[36moutboxml.hyperparameter_tuning\u001b[0m:\u001b[36m_prepare_catboost\u001b[0m:\u001b[36m176\u001b[0m - \u001b[1mNo objective in config||Using from init\u001b[0m\n"
     ]
    },
    {
     "name": "stdout",
     "output_type": "stream",
     "text": [
      "[I 2025-08-02 11:26:53,462] Trial 18 finished with value: -1.4600375230754226 and parameters: {'iterations': 500, 'depth': 3, 'learning_rate': 0.08960594824891265, 'l2_leaf_reg': 0.018783601517148786, 'subsample': 0.20721246742395588, 'colsample_bylevel': 0.9561540016713422, 'min_data_in_leaf': 1}. Best is trial 5 with value: -1.4079755261939628.\n"
     ]
    },
    {
     "name": "stderr",
     "output_type": "stream",
     "text": [
      "                                                                                     \u001b[32m2025-08-02 11:26:53.924\u001b[0m | \u001b[1mINFO    \u001b[0m | \u001b[36moutboxml.hyperparameter_tuning\u001b[0m:\u001b[36m_prepare_catboost\u001b[0m:\u001b[36m176\u001b[0m - \u001b[1mNo objective in config||Using from init\u001b[0m\n",
      "Best trial: 5. Best value: -1.40798:  17%|█▋        | 17/100 [00:02<00:12,  6.63it/s]\u001b[32m2025-08-02 11:26:53.983\u001b[0m | \u001b[1mINFO    \u001b[0m | \u001b[36moutboxml.hyperparameter_tuning\u001b[0m:\u001b[36m_prepare_catboost\u001b[0m:\u001b[36m176\u001b[0m - \u001b[1mNo objective in config||Using from init\u001b[0m\n"
     ]
    },
    {
     "name": "stdout",
     "output_type": "stream",
     "text": [
      "[I 2025-08-02 11:26:53,822] Trial 20 finished with value: -1.429666475087881 and parameters: {'iterations': 1000, 'depth': 5, 'learning_rate': 0.04538694440913587, 'l2_leaf_reg': 0.47964128970239145, 'subsample': 0.7539358490765582, 'colsample_bylevel': 0.12938549006181282, 'min_data_in_leaf': 21}. Best is trial 5 with value: -1.4079755261939628.\n",
      "[I 2025-08-02 11:26:53,897] Trial 4 finished with value: -1.7994156011065068 and parameters: {'iterations': 700, 'depth': 9, 'learning_rate': 0.014534888832949736, 'l2_leaf_reg': 0.08190651097459241, 'subsample': 0.9034568899298626, 'colsample_bylevel': 0.3816131503949232, 'min_data_in_leaf': 51}. Best is trial 5 with value: -1.4079755261939628.\n"
     ]
    },
    {
     "name": "stderr",
     "output_type": "stream",
     "text": [
      "Best trial: 5. Best value: -1.40798:  18%|█▊        | 18/100 [00:03<00:26,  3.13it/s]\u001b[32m2025-08-02 11:26:54.955\u001b[0m | \u001b[1mINFO    \u001b[0m | \u001b[36moutboxml.hyperparameter_tuning\u001b[0m:\u001b[36m_prepare_catboost\u001b[0m:\u001b[36m176\u001b[0m - \u001b[1mNo objective in config||Using from init\u001b[0m\n",
      "Best trial: 5. Best value: -1.40798:  18%|█▊        | 18/100 [00:03<00:26,  3.13it/s]\u001b[32m2025-08-02 11:26:55.026\u001b[0m | \u001b[1mINFO    \u001b[0m | \u001b[36moutboxml.hyperparameter_tuning\u001b[0m:\u001b[36m_prepare_catboost\u001b[0m:\u001b[36m176\u001b[0m - \u001b[1mNo objective in config||Using from init\u001b[0m\n"
     ]
    },
    {
     "name": "stdout",
     "output_type": "stream",
     "text": [
      "[I 2025-08-02 11:26:54,881] Trial 17 finished with value: -1.5648219383840827 and parameters: {'iterations': 1100, 'depth': 9, 'learning_rate': 0.013783346662253119, 'l2_leaf_reg': 0.0002556314360401141, 'subsample': 0.5880689674265159, 'colsample_bylevel': 0.29221845251235545, 'min_data_in_leaf': 51}. Best is trial 5 with value: -1.4079755261939628.\n",
      "[I 2025-08-02 11:26:54,969] Trial 24 finished with value: -1.6885901482485313 and parameters: {'iterations': 600, 'depth': 7, 'learning_rate': 0.08745257748417204, 'l2_leaf_reg': 2.059645254739542, 'subsample': 0.05494313236068389, 'colsample_bylevel': 0.7322154223238304, 'min_data_in_leaf': 71}. Best is trial 5 with value: -1.4079755261939628.\n"
     ]
    },
    {
     "name": "stderr",
     "output_type": "stream",
     "text": [
      "Best trial: 5. Best value: -1.40798:  20%|██        | 20/100 [00:03<00:19,  4.12it/s]\u001b[32m2025-08-02 11:26:55.231\u001b[0m | \u001b[1mINFO    \u001b[0m | \u001b[36moutboxml.hyperparameter_tuning\u001b[0m:\u001b[36m_prepare_catboost\u001b[0m:\u001b[36m176\u001b[0m - \u001b[1mNo objective in config||Using from init\u001b[0m\n",
      "\u001b[32m2025-08-02 11:26:55.239\u001b[0m | \u001b[1mINFO    \u001b[0m | \u001b[36moutboxml.hyperparameter_tuning\u001b[0m:\u001b[36m_prepare_catboost\u001b[0m:\u001b[36m176\u001b[0m - \u001b[1mNo objective in config||Using from init\u001b[0m\n"
     ]
    },
    {
     "name": "stdout",
     "output_type": "stream",
     "text": [
      "[I 2025-08-02 11:26:55,104] Trial 25 finished with value: -1.6007687060959588 and parameters: {'iterations': 500, 'depth': 7, 'learning_rate': 0.09942971641886063, 'l2_leaf_reg': 0.8659646383018108, 'subsample': 0.9339423453669747, 'colsample_bylevel': 0.9957110592039251, 'min_data_in_leaf': 41}. Best is trial 5 with value: -1.4079755261939628.\n",
      "[I 2025-08-02 11:26:55,144] Trial 23 finished with value: -1.656583976974127 and parameters: {'iterations': 600, 'depth': 7, 'learning_rate': 0.09627570101346478, 'l2_leaf_reg': 1.1770874853935906, 'subsample': 0.10189957652293119, 'colsample_bylevel': 0.7777617227433887, 'min_data_in_leaf': 71}. Best is trial 5 with value: -1.4079755261939628.\n"
     ]
    },
    {
     "name": "stderr",
     "output_type": "stream",
     "text": [
      "Best trial: 5. Best value: -1.40798:  22%|██▏       | 22/100 [00:03<00:15,  5.07it/s]\u001b[32m2025-08-02 11:26:55.411\u001b[0m | \u001b[1mINFO    \u001b[0m | \u001b[36moutboxml.hyperparameter_tuning\u001b[0m:\u001b[36m_prepare_catboost\u001b[0m:\u001b[36m176\u001b[0m - \u001b[1mNo objective in config||Using from init\u001b[0m\n",
      "Best trial: 5. Best value: -1.40798:  22%|██▏       | 22/100 [00:03<00:15,  5.07it/s]\u001b[32m2025-08-02 11:26:55.511\u001b[0m | \u001b[1mINFO    \u001b[0m | \u001b[36moutboxml.hyperparameter_tuning\u001b[0m:\u001b[36m_prepare_catboost\u001b[0m:\u001b[36m176\u001b[0m - \u001b[1mNo objective in config||Using from init\u001b[0m\n"
     ]
    },
    {
     "name": "stdout",
     "output_type": "stream",
     "text": [
      "[I 2025-08-02 11:26:55,337] Trial 21 finished with value: -1.5431073703601845 and parameters: {'iterations': 600, 'depth': 7, 'learning_rate': 0.03739591917224024, 'l2_leaf_reg': 0.5947066918190793, 'subsample': 0.6716765464198976, 'colsample_bylevel': 0.9828493967407186, 'min_data_in_leaf': 41}. Best is trial 5 with value: -1.4079755261939628.\n",
      "[I 2025-08-02 11:26:55,383] Trial 22 finished with value: -1.9088517737441728 and parameters: {'iterations': 700, 'depth': 7, 'learning_rate': 0.0962814402259443, 'l2_leaf_reg': 1.3452016405800968, 'subsample': 0.10554568960101351, 'colsample_bylevel': 0.726503819406001, 'min_data_in_leaf': 41}. Best is trial 5 with value: -1.4079755261939628.\n"
     ]
    },
    {
     "name": "stderr",
     "output_type": "stream",
     "text": [
      "Best trial: 5. Best value: -1.40798:  26%|██▌       | 26/100 [00:04<00:10,  7.22it/s]\u001b[32m2025-08-02 11:26:55.770\u001b[0m | \u001b[1mINFO    \u001b[0m | \u001b[36moutboxml.hyperparameter_tuning\u001b[0m:\u001b[36m_prepare_catboost\u001b[0m:\u001b[36m176\u001b[0m - \u001b[1mNo objective in config||Using from init\u001b[0m\n",
      "\u001b[32m2025-08-02 11:26:55.806\u001b[0m | \u001b[1mINFO    \u001b[0m | \u001b[36moutboxml.hyperparameter_tuning\u001b[0m:\u001b[36m_prepare_catboost\u001b[0m:\u001b[36m176\u001b[0m - \u001b[1mNo objective in config||Using from init\u001b[0m\n"
     ]
    },
    {
     "name": "stdout",
     "output_type": "stream",
     "text": [
      "[I 2025-08-02 11:26:55,606] Trial 30 finished with value: -1.9589949019424717 and parameters: {'iterations': 100, 'depth': 7, 'learning_rate': 0.04811417585714991, 'l2_leaf_reg': 0.5547788129388688, 'subsample': 0.712247913861307, 'colsample_bylevel': 0.7807059330271622, 'min_data_in_leaf': 31}. Best is trial 5 with value: -1.4079755261939628.\n",
      "[I 2025-08-02 11:26:55,635] Trial 31 finished with value: -1.761893436608048 and parameters: {'iterations': 100, 'depth': 5, 'learning_rate': 0.04441562083422304, 'l2_leaf_reg': 0.7340016611292368, 'subsample': 0.6790328124445808, 'colsample_bylevel': 0.7019295573730102, 'min_data_in_leaf': 31}. Best is trial 5 with value: -1.4079755261939628.\n",
      "[I 2025-08-02 11:26:55,708] Trial 26 finished with value: -1.7269366020808736 and parameters: {'iterations': 600, 'depth': 7, 'learning_rate': 0.047675522753547944, 'l2_leaf_reg': 0.9071309877228595, 'subsample': 0.05014779089657173, 'colsample_bylevel': 0.9509610134725973, 'min_data_in_leaf': 41}. Best is trial 5 with value: -1.4079755261939628.\n"
     ]
    },
    {
     "name": "stderr",
     "output_type": "stream",
     "text": [
      "\u001b[32m2025-08-02 11:26:55.878\u001b[0m | \u001b[1mINFO    \u001b[0m | \u001b[36moutboxml.hyperparameter_tuning\u001b[0m:\u001b[36m_prepare_catboost\u001b[0m:\u001b[36m176\u001b[0m - \u001b[1mNo objective in config||Using from init\u001b[0m\n",
      "Best trial: 5. Best value: -1.40798:  29%|██▉       | 29/100 [00:04<00:12,  5.81it/s]"
     ]
    },
    {
     "name": "stdout",
     "output_type": "stream",
     "text": [
      "[I 2025-08-02 11:26:56,219] Trial 28 finished with value: -1.7248339659139187 and parameters: {'iterations': 600, 'depth': 7, 'learning_rate': 0.023008305437277683, 'l2_leaf_reg': 0.5396653586457572, 'subsample': 0.647409311133752, 'colsample_bylevel': 0.7430680003465205, 'min_data_in_leaf': 41}. Best is trial 5 with value: -1.4079755261939628.\n",
      "[I 2025-08-02 11:26:56,262] Trial 33 finished with value: -1.627023789114124 and parameters: {'iterations': 400, 'depth': 5, 'learning_rate': 0.047063518624434024, 'l2_leaf_reg': 0.1230129063710069, 'subsample': 0.220334021447739, 'colsample_bylevel': 0.857648267057646, 'min_data_in_leaf': 1}. Best is trial 5 with value: -1.4079755261939628.\n",
      "[I 2025-08-02 11:26:56,358] Trial 27 finished with value: -1.737706829616089 and parameters: {'iterations': 600, 'depth': 7, 'learning_rate': 0.04688789864870389, 'l2_leaf_reg': 1.0182627470968162, 'subsample': 0.9999704483395198, 'colsample_bylevel': 0.722450009765495, 'min_data_in_leaf': 51}. Best is trial 5 with value: -1.4079755261939628.\n",
      "[I 2025-08-02 11:26:56,404] Trial 32 finished with value: -1.4683009942504237 and parameters: {'iterations': 500, 'depth': 5, 'learning_rate': 0.04966546382900605, 'l2_leaf_reg': 0.1251226186281014, 'subsample': 0.6694161291830781, 'colsample_bylevel': 0.8702648774429563, 'min_data_in_leaf': 1}. Best is trial 5 with value: -1.4079755261939628.\n"
     ]
    },
    {
     "name": "stderr",
     "output_type": "stream",
     "text": [
      "Best trial: 5. Best value: -1.40798:  30%|███       | 30/100 [00:05<00:12,  5.81it/s]\u001b[32m2025-08-02 11:26:56.484\u001b[0m | \u001b[1mINFO    \u001b[0m | \u001b[36moutboxml.hyperparameter_tuning\u001b[0m:\u001b[36m_prepare_catboost\u001b[0m:\u001b[36m176\u001b[0m - \u001b[1mNo objective in config||Using from init\u001b[0m\n",
      "\u001b[32m2025-08-02 11:26:56.486\u001b[0m | \u001b[1mINFO    \u001b[0m | \u001b[36moutboxml.hyperparameter_tuning\u001b[0m:\u001b[36m_prepare_catboost\u001b[0m:\u001b[36m176\u001b[0m - \u001b[1mNo objective in config||Using from init\u001b[0m\n",
      "\u001b[32m2025-08-02 11:26:56.546\u001b[0m | \u001b[1mINFO    \u001b[0m | \u001b[36moutboxml.hyperparameter_tuning\u001b[0m:\u001b[36m_prepare_catboost\u001b[0m:\u001b[36m176\u001b[0m - \u001b[1mNo objective in config||Using from init\u001b[0m\n",
      "\u001b[32m2025-08-02 11:26:56.584\u001b[0m | \u001b[1mINFO    \u001b[0m | \u001b[36moutboxml.hyperparameter_tuning\u001b[0m:\u001b[36m_prepare_catboost\u001b[0m:\u001b[36m176\u001b[0m - \u001b[1mNo objective in config||Using from init\u001b[0m\n",
      "\u001b[32m2025-08-02 11:26:56.610\u001b[0m | \u001b[1mINFO    \u001b[0m | \u001b[36moutboxml.hyperparameter_tuning\u001b[0m:\u001b[36m_prepare_catboost\u001b[0m:\u001b[36m176\u001b[0m - \u001b[1mNo objective in config||Using from init\u001b[0m\n"
     ]
    },
    {
     "name": "stdout",
     "output_type": "stream",
     "text": [
      "[I 2025-08-02 11:26:56,413] Trial 34 finished with value: -1.4458733784045732 and parameters: {'iterations': 400, 'depth': 5, 'learning_rate': 0.05353813958468741, 'l2_leaf_reg': 0.07769280940749082, 'subsample': 0.2793919075450293, 'colsample_bylevel': 0.8707991239902227, 'min_data_in_leaf': 1}. Best is trial 5 with value: -1.4079755261939628.\n"
     ]
    },
    {
     "name": "stderr",
     "output_type": "stream",
     "text": [
      "Best trial: 5. Best value: -1.40798:  34%|███▍      | 34/100 [00:05<00:10,  6.26it/s]\u001b[32m2025-08-02 11:26:57.069\u001b[0m | \u001b[1mINFO    \u001b[0m | \u001b[36moutboxml.hyperparameter_tuning\u001b[0m:\u001b[36m_prepare_catboost\u001b[0m:\u001b[36m176\u001b[0m - \u001b[1mNo objective in config||Using from init\u001b[0m\n",
      "Best trial: 5. Best value: -1.40798:  34%|███▍      | 34/100 [00:05<00:10,  6.26it/s]"
     ]
    },
    {
     "name": "stdout",
     "output_type": "stream",
     "text": [
      "[I 2025-08-02 11:26:56,903] Trial 37 finished with value: -1.5024538350482792 and parameters: {'iterations': 400, 'depth': 5, 'learning_rate': 0.023456957190753164, 'l2_leaf_reg': 0.09680437440873263, 'subsample': 0.22079328315822266, 'colsample_bylevel': 0.8723510124913713, 'min_data_in_leaf': 1}. Best is trial 5 with value: -1.4079755261939628.\n",
      "[I 2025-08-02 11:26:56,987] Trial 35 finished with value: -1.540909639441485 and parameters: {'iterations': 500, 'depth': 5, 'learning_rate': 0.0240100916765382, 'l2_leaf_reg': 0.11188842746181661, 'subsample': 0.18680807644779518, 'colsample_bylevel': 0.8811735406071826, 'min_data_in_leaf': 1}. Best is trial 5 with value: -1.4079755261939628.\n",
      "[I 2025-08-02 11:26:56,989] Trial 36 finished with value: -1.5183207020256786 and parameters: {'iterations': 500, 'depth': 5, 'learning_rate': 0.020282240223043535, 'l2_leaf_reg': 0.10838380550202795, 'subsample': 0.22875101562158423, 'colsample_bylevel': 0.8825163412608662, 'min_data_in_leaf': 1}. Best is trial 5 with value: -1.4079755261939628.\n",
      "[I 2025-08-02 11:26:57,048] Trial 29 finished with value: -1.69305627987078 and parameters: {'iterations': 600, 'depth': 7, 'learning_rate': 0.04556336554442808, 'l2_leaf_reg': 1.3187705365814317, 'subsample': 0.6816498564644877, 'colsample_bylevel': 0.7687601483719895, 'min_data_in_leaf': 31}. Best is trial 5 with value: -1.4079755261939628.\n"
     ]
    },
    {
     "name": "stderr",
     "output_type": "stream",
     "text": [
      "\u001b[32m2025-08-02 11:26:57.176\u001b[0m | \u001b[1mINFO    \u001b[0m | \u001b[36moutboxml.hyperparameter_tuning\u001b[0m:\u001b[36m_prepare_catboost\u001b[0m:\u001b[36m176\u001b[0m - \u001b[1mNo objective in config||Using from init\u001b[0m\n",
      "\u001b[32m2025-08-02 11:26:57.191\u001b[0m | \u001b[1mINFO    \u001b[0m | \u001b[36moutboxml.hyperparameter_tuning\u001b[0m:\u001b[36m_prepare_catboost\u001b[0m:\u001b[36m176\u001b[0m - \u001b[1mNo objective in config||Using from init\u001b[0m\n",
      "\u001b[32m2025-08-02 11:26:57.227\u001b[0m | \u001b[1mINFO    \u001b[0m | \u001b[36moutboxml.hyperparameter_tuning\u001b[0m:\u001b[36m_prepare_catboost\u001b[0m:\u001b[36m176\u001b[0m - \u001b[1mNo objective in config||Using from init\u001b[0m\n",
      "Best trial: 5. Best value: -1.40798:  36%|███▌      | 36/100 [00:06<00:12,  4.99it/s]\u001b[32m2025-08-02 11:26:57.922\u001b[0m | \u001b[1mINFO    \u001b[0m | \u001b[36moutboxml.hyperparameter_tuning\u001b[0m:\u001b[36m_prepare_catboost\u001b[0m:\u001b[36m176\u001b[0m - \u001b[1mNo objective in config||Using from init\u001b[0m\n"
     ]
    },
    {
     "name": "stdout",
     "output_type": "stream",
     "text": [
      "[I 2025-08-02 11:26:57,777] Trial 43 finished with value: -1.597461455035394 and parameters: {'iterations': 500, 'depth': 1, 'learning_rate': 0.06913013549799937, 'l2_leaf_reg': 5.662506072515563, 'subsample': 0.24189231058055322, 'colsample_bylevel': 0.8215052919943592, 'min_data_in_leaf': 11}. Best is trial 5 with value: -1.4079755261939628.\n",
      "[I 2025-08-02 11:26:57,853] Trial 39 finished with value: -1.5083057541383778 and parameters: {'iterations': 500, 'depth': 5, 'learning_rate': 0.023550544235434175, 'l2_leaf_reg': 5.581247316553519, 'subsample': 0.8880565111160585, 'colsample_bylevel': 0.8738890266165962, 'min_data_in_leaf': 1}. Best is trial 5 with value: -1.4079755261939628.\n"
     ]
    },
    {
     "name": "stderr",
     "output_type": "stream",
     "text": [
      "\u001b[32m2025-08-02 11:26:57.988\u001b[0m | \u001b[1mINFO    \u001b[0m | \u001b[36moutboxml.hyperparameter_tuning\u001b[0m:\u001b[36m_prepare_catboost\u001b[0m:\u001b[36m176\u001b[0m - \u001b[1mNo objective in config||Using from init\u001b[0m\n",
      "Best trial: 5. Best value: -1.40798:  40%|████      | 40/100 [00:06<00:10,  5.88it/s]\u001b[32m2025-08-02 11:26:58.456\u001b[0m | \u001b[1mINFO    \u001b[0m | \u001b[36moutboxml.hyperparameter_tuning\u001b[0m:\u001b[36m_prepare_catboost\u001b[0m:\u001b[36m176\u001b[0m - \u001b[1mNo objective in config||Using from init\u001b[0m\n"
     ]
    },
    {
     "name": "stdout",
     "output_type": "stream",
     "text": [
      "[I 2025-08-02 11:26:58,315] Trial 45 finished with value: -1.4962614998154276 and parameters: {'iterations': 1200, 'depth': 1, 'learning_rate': 0.05708144814787761, 'l2_leaf_reg': 5.713528832520241, 'subsample': 0.3161102995722935, 'colsample_bylevel': 0.6401170793457414, 'min_data_in_leaf': 11}. Best is trial 5 with value: -1.4079755261939628.\n",
      "[I 2025-08-02 11:26:58,397] Trial 46 finished with value: -1.4928044418261237 and parameters: {'iterations': 1200, 'depth': 1, 'learning_rate': 0.0660456617693673, 'l2_leaf_reg': 0.014001058236830302, 'subsample': 0.30844288107531187, 'colsample_bylevel': 0.6417135117895179, 'min_data_in_leaf': 11}. Best is trial 5 with value: -1.4079755261939628.\n",
      "[I 2025-08-02 11:26:58,410] Trial 44 finished with value: -1.4580902332689607 and parameters: {'iterations': 1200, 'depth': 1, 'learning_rate': 0.06567292151541126, 'l2_leaf_reg': 0.008567007798495955, 'subsample': 0.34224771239911667, 'colsample_bylevel': 0.6670079528835926, 'min_data_in_leaf': 11}. Best is trial 5 with value: -1.4079755261939628.\n"
     ]
    },
    {
     "name": "stderr",
     "output_type": "stream",
     "text": [
      "\u001b[32m2025-08-02 11:26:58.536\u001b[0m | \u001b[1mINFO    \u001b[0m | \u001b[36moutboxml.hyperparameter_tuning\u001b[0m:\u001b[36m_prepare_catboost\u001b[0m:\u001b[36m176\u001b[0m - \u001b[1mNo objective in config||Using from init\u001b[0m\n",
      "\u001b[32m2025-08-02 11:26:58.543\u001b[0m | \u001b[1mINFO    \u001b[0m | \u001b[36moutboxml.hyperparameter_tuning\u001b[0m:\u001b[36m_prepare_catboost\u001b[0m:\u001b[36m176\u001b[0m - \u001b[1mNo objective in config||Using from init\u001b[0m\n",
      "                                                                                     \r"
     ]
    },
    {
     "name": "stdout",
     "output_type": "stream",
     "text": [
      "[I 2025-08-02 11:26:59,126] Trial 40 finished with value: -1.4601463768217748 and parameters: {'iterations': 1200, 'depth': 5, 'learning_rate': 0.0677790823299211, 'l2_leaf_reg': 5.001871814503065, 'subsample': 0.3338647960736185, 'colsample_bylevel': 0.6399664240428344, 'min_data_in_leaf': 11}. Best is trial 5 with value: -1.4079755261939628.\n",
      "[I 2025-08-02 11:26:59,173] Trial 42 finished with value: -1.5059662415794532 and parameters: {'iterations': 1200, 'depth': 5, 'learning_rate': 0.0643932591340305, 'l2_leaf_reg': 6.1276768053359145, 'subsample': 0.2711549617430905, 'colsample_bylevel': 0.6389157394889976, 'min_data_in_leaf': 11}. Best is trial 5 with value: -1.4079755261939628.\n",
      "[I 2025-08-02 11:26:59,257] Trial 16 finished with value: -1.6522328710025234 and parameters: {'iterations': 800, 'depth': 15, 'learning_rate': 0.05233616062707799, 'l2_leaf_reg': 1.0679709751238817e-05, 'subsample': 0.36229219972221705, 'colsample_bylevel': 0.2931693070216627, 'min_data_in_leaf': 101}. Best is trial 5 with value: -1.4079755261939628.\n",
      "[I 2025-08-02 11:26:59,269] Trial 48 finished with value: -1.5304508670775734 and parameters: {'iterations': 1200, 'depth': 1, 'learning_rate': 0.027825581793149475, 'l2_leaf_reg': 0.009290624542195305, 'subsample': 0.32907128254002094, 'colsample_bylevel': 0.6373888905858722, 'min_data_in_leaf': 21}. Best is trial 5 with value: -1.4079755261939628.\n"
     ]
    },
    {
     "name": "stderr",
     "output_type": "stream",
     "text": [
      "Best trial: 5. Best value: -1.40798:  44%|████▍     | 44/100 [00:07<00:10,  5.38it/s]\u001b[32m2025-08-02 11:26:59.363\u001b[0m | \u001b[1mINFO    \u001b[0m | \u001b[36moutboxml.hyperparameter_tuning\u001b[0m:\u001b[36m_prepare_catboost\u001b[0m:\u001b[36m176\u001b[0m - \u001b[1mNo objective in config||Using from init\u001b[0m\n",
      "Best trial: 5. Best value: -1.40798:  44%|████▍     | 44/100 [00:07<00:10,  5.38it/s]\u001b[32m2025-08-02 11:26:59.388\u001b[0m | \u001b[1mINFO    \u001b[0m | \u001b[36moutboxml.hyperparameter_tuning\u001b[0m:\u001b[36m_prepare_catboost\u001b[0m:\u001b[36m176\u001b[0m - \u001b[1mNo objective in config||Using from init\u001b[0m\n",
      "Best trial: 5. Best value: -1.40798:  45%|████▌     | 45/100 [00:07<00:10,  5.38it/s]\u001b[32m2025-08-02 11:26:59.462\u001b[0m | \u001b[1mINFO    \u001b[0m | \u001b[36moutboxml.hyperparameter_tuning\u001b[0m:\u001b[36m_prepare_catboost\u001b[0m:\u001b[36m176\u001b[0m - \u001b[1mNo objective in config||Using from init\u001b[0m\n",
      "\u001b[32m2025-08-02 11:26:59.545\u001b[0m | \u001b[1mINFO    \u001b[0m | \u001b[36moutboxml.hyperparameter_tuning\u001b[0m:\u001b[36m_prepare_catboost\u001b[0m:\u001b[36m176\u001b[0m - \u001b[1mNo objective in config||Using from init\u001b[0m\n",
      "\u001b[32m2025-08-02 11:26:59.552\u001b[0m | \u001b[1mINFO    \u001b[0m | \u001b[36moutboxml.hyperparameter_tuning\u001b[0m:\u001b[36m_prepare_catboost\u001b[0m:\u001b[36m176\u001b[0m - \u001b[1mNo objective in config||Using from init\u001b[0m\n",
      "\u001b[32m2025-08-02 11:26:59.560\u001b[0m | \u001b[1mINFO    \u001b[0m | \u001b[36moutboxml.hyperparameter_tuning\u001b[0m:\u001b[36m_prepare_catboost\u001b[0m:\u001b[36m176\u001b[0m - \u001b[1mNo objective in config||Using from init\u001b[0m\n"
     ]
    },
    {
     "name": "stdout",
     "output_type": "stream",
     "text": [
      "[I 2025-08-02 11:26:59,312] Trial 38 finished with value: -1.410064421570284 and parameters: {'iterations': 1200, 'depth': 5, 'learning_rate': 0.024673957571975845, 'l2_leaf_reg': 0.10552062189467104, 'subsample': 0.22408588038393912, 'colsample_bylevel': 0.8671667971736647, 'min_data_in_leaf': 1}. Best is trial 5 with value: -1.4079755261939628.\n",
      "[I 2025-08-02 11:26:59,315] Trial 41 finished with value: -1.5530262507647385 and parameters: {'iterations': 1200, 'depth': 5, 'learning_rate': 0.06587082947424229, 'l2_leaf_reg': 8.990751940076011, 'subsample': 0.2465755680892627, 'colsample_bylevel': 0.870560850870208, 'min_data_in_leaf': 11}. Best is trial 5 with value: -1.4079755261939628.\n"
     ]
    },
    {
     "name": "stderr",
     "output_type": "stream",
     "text": [
      "Best trial: 5. Best value: -1.40798:  47%|████▋     | 47/100 [00:08<00:09,  5.56it/s]\u001b[32m2025-08-02 11:26:59.977\u001b[0m | \u001b[1mINFO    \u001b[0m | \u001b[36moutboxml.hyperparameter_tuning\u001b[0m:\u001b[36m_prepare_catboost\u001b[0m:\u001b[36m176\u001b[0m - \u001b[1mNo objective in config||Using from init\u001b[0m\n"
     ]
    },
    {
     "name": "stdout",
     "output_type": "stream",
     "text": [
      "[I 2025-08-02 11:26:59,843] Trial 54 finished with value: -2.456145031949363 and parameters: {'iterations': 300, 'depth': 3, 'learning_rate': 0.07461348457951174, 'l2_leaf_reg': 0.00233142975437189, 'subsample': 0.18215182136606778, 'colsample_bylevel': 0.051931325703901576, 'min_data_in_leaf': 11}. Best is trial 5 with value: -1.4079755261939628.\n"
     ]
    },
    {
     "name": "stderr",
     "output_type": "stream",
     "text": [
      "Best trial: 53. Best value: -1.32959:  48%|████▊     | 48/100 [00:08<00:09,  5.43it/s]\u001b[32m2025-08-02 11:27:00.206\u001b[0m | \u001b[1mINFO    \u001b[0m | \u001b[36moutboxml.hyperparameter_tuning\u001b[0m:\u001b[36m_prepare_catboost\u001b[0m:\u001b[36m176\u001b[0m - \u001b[1mNo objective in config||Using from init\u001b[0m\n"
     ]
    },
    {
     "name": "stdout",
     "output_type": "stream",
     "text": [
      "[I 2025-08-02 11:27:00,049] Trial 52 finished with value: -1.3590804389699185 and parameters: {'iterations': 300, 'depth': 3, 'learning_rate': 0.05438616400081595, 'l2_leaf_reg': 0.004730559131334137, 'subsample': 0.4136869098945676, 'colsample_bylevel': 0.9334675598891756, 'min_data_in_leaf': 21}. Best is trial 52 with value: -1.3590804389699185.\n",
      "[I 2025-08-02 11:27:00,086] Trial 53 finished with value: -1.3295926768642212 and parameters: {'iterations': 300, 'depth': 3, 'learning_rate': 0.07525340429528325, 'l2_leaf_reg': 0.0029416375151802843, 'subsample': 0.4589967560543995, 'colsample_bylevel': 0.9311310387594223, 'min_data_in_leaf': 21}. Best is trial 53 with value: -1.3295926768642212.\n"
     ]
    },
    {
     "name": "stderr",
     "output_type": "stream",
     "text": [
      "\u001b[32m2025-08-02 11:27:00.262\u001b[0m | \u001b[1mINFO    \u001b[0m | \u001b[36moutboxml.hyperparameter_tuning\u001b[0m:\u001b[36m_prepare_catboost\u001b[0m:\u001b[36m176\u001b[0m - \u001b[1mNo objective in config||Using from init\u001b[0m\n",
      "Best trial: 53. Best value: -1.32959:  50%|█████     | 50/100 [00:09<00:09,  5.30it/s]\u001b[32m2025-08-02 11:27:00.566\u001b[0m | \u001b[1mINFO    \u001b[0m | \u001b[36moutboxml.hyperparameter_tuning\u001b[0m:\u001b[36m_prepare_catboost\u001b[0m:\u001b[36m176\u001b[0m - \u001b[1mNo objective in config||Using from init\u001b[0m\n"
     ]
    },
    {
     "name": "stdout",
     "output_type": "stream",
     "text": [
      "[I 2025-08-02 11:27:00,446] Trial 56 finished with value: -2.5312437554085787 and parameters: {'iterations': 1000, 'depth': 3, 'learning_rate': 0.017803243740178356, 'l2_leaf_reg': 0.001733660014103178, 'subsample': 0.41536766631894895, 'colsample_bylevel': 0.053741915130441215, 'min_data_in_leaf': 21}. Best is trial 53 with value: -1.3295926768642212.\n"
     ]
    },
    {
     "name": "stderr",
     "output_type": "stream",
     "text": [
      "Best trial: 53. Best value: -1.32959:  51%|█████     | 51/100 [00:09<00:09,  5.09it/s]\u001b[32m2025-08-02 11:27:00.820\u001b[0m | \u001b[1mINFO    \u001b[0m | \u001b[36moutboxml.hyperparameter_tuning\u001b[0m:\u001b[36m_prepare_catboost\u001b[0m:\u001b[36m176\u001b[0m - \u001b[1mNo objective in config||Using from init\u001b[0m\n"
     ]
    },
    {
     "name": "stdout",
     "output_type": "stream",
     "text": [
      "[I 2025-08-02 11:27:00,682] Trial 59 finished with value: -1.758018235347363 and parameters: {'iterations': 300, 'depth': 3, 'learning_rate': 0.017788724419923126, 'l2_leaf_reg': 0.047794135738628535, 'subsample': 0.44506366428723787, 'colsample_bylevel': 0.4738275714144991, 'min_data_in_leaf': 21}. Best is trial 53 with value: -1.3295926768642212.\n"
     ]
    },
    {
     "name": "stderr",
     "output_type": "stream",
     "text": [
      "Best trial: 53. Best value: -1.32959:  53%|█████▎    | 53/100 [00:09<00:09,  5.11it/s]"
     ]
    },
    {
     "name": "stdout",
     "output_type": "stream",
     "text": [
      "[I 2025-08-02 11:27:00,998] Trial 57 finished with value: -1.428226894134785 and parameters: {'iterations': 900, 'depth': 3, 'learning_rate': 0.016549935240722492, 'l2_leaf_reg': 0.04615923677372035, 'subsample': 0.4084149769111938, 'colsample_bylevel': 0.47286143889948906, 'min_data_in_leaf': 21}. Best is trial 53 with value: -1.3295926768642212.\n",
      "[I 2025-08-02 11:27:01,108] Trial 47 finished with value: -1.8451623681714144 and parameters: {'iterations': 300, 'depth': 11, 'learning_rate': 0.05710403685227431, 'l2_leaf_reg': 0.024634362290853425, 'subsample': 0.30946514381706675, 'colsample_bylevel': 0.5956113515417494, 'min_data_in_leaf': 21}. Best is trial 53 with value: -1.3295926768642212.\n"
     ]
    },
    {
     "name": "stderr",
     "output_type": "stream",
     "text": [
      "\u001b[32m2025-08-02 11:27:01.239\u001b[0m | \u001b[1mINFO    \u001b[0m | \u001b[36moutboxml.hyperparameter_tuning\u001b[0m:\u001b[36m_prepare_catboost\u001b[0m:\u001b[36m176\u001b[0m - \u001b[1mNo objective in config||Using from init\u001b[0m\n",
      "\u001b[32m2025-08-02 11:27:01.264\u001b[0m | \u001b[1mINFO    \u001b[0m | \u001b[36moutboxml.hyperparameter_tuning\u001b[0m:\u001b[36m_prepare_catboost\u001b[0m:\u001b[36m176\u001b[0m - \u001b[1mNo objective in config||Using from init\u001b[0m\n",
      "Best trial: 53. Best value: -1.32959:  55%|█████▌    | 55/100 [00:10<00:08,  5.19it/s]"
     ]
    },
    {
     "name": "stdout",
     "output_type": "stream",
     "text": [
      "[I 2025-08-02 11:27:01,290] Trial 49 finished with value: -1.873653875948687 and parameters: {'iterations': 300, 'depth': 11, 'learning_rate': 0.017436063027795448, 'l2_leaf_reg': 0.02683798473669797, 'subsample': 0.43930786841637215, 'colsample_bylevel': 0.9332690154129657, 'min_data_in_leaf': 21}. Best is trial 53 with value: -1.3295926768642212.\n",
      "[I 2025-08-02 11:27:01,473] Trial 58 finished with value: -1.3354030000094985 and parameters: {'iterations': 1000, 'depth': 3, 'learning_rate': 0.03846202876547296, 'l2_leaf_reg': 0.035530359216845164, 'subsample': 0.43411672779358723, 'colsample_bylevel': 0.476295367385035, 'min_data_in_leaf': 21}. Best is trial 53 with value: -1.3295926768642212.\n"
     ]
    },
    {
     "name": "stderr",
     "output_type": "stream",
     "text": [
      "\u001b[32m2025-08-02 11:27:01.517\u001b[0m | \u001b[1mINFO    \u001b[0m | \u001b[36moutboxml.hyperparameter_tuning\u001b[0m:\u001b[36m_prepare_catboost\u001b[0m:\u001b[36m176\u001b[0m - \u001b[1mNo objective in config||Using from init\u001b[0m\n",
      "Best trial: 53. Best value: -1.32959:  56%|█████▌    | 56/100 [00:10<00:07,  5.65it/s]\u001b[32m2025-08-02 11:27:01.648\u001b[0m | \u001b[1mINFO    \u001b[0m | \u001b[36moutboxml.hyperparameter_tuning\u001b[0m:\u001b[36m_prepare_catboost\u001b[0m:\u001b[36m176\u001b[0m - \u001b[1mNo objective in config||Using from init\u001b[0m\n",
      "\u001b[32m2025-08-02 11:27:01.801\u001b[0m | \u001b[1mINFO    \u001b[0m | \u001b[36moutboxml.hyperparameter_tuning\u001b[0m:\u001b[36m_prepare_catboost\u001b[0m:\u001b[36m176\u001b[0m - \u001b[1mNo objective in config||Using from init\u001b[0m\n"
     ]
    },
    {
     "name": "stdout",
     "output_type": "stream",
     "text": [
      "[I 2025-08-02 11:27:01,624] Trial 60 finished with value: -1.3326002542004272 and parameters: {'iterations': 1000, 'depth': 3, 'learning_rate': 0.03738622348235163, 'l2_leaf_reg': 0.003068091744084551, 'subsample': 0.4371449394147321, 'colsample_bylevel': 0.9241328725598736, 'min_data_in_leaf': 21}. Best is trial 53 with value: -1.3295926768642212.\n"
     ]
    },
    {
     "name": "stderr",
     "output_type": "stream",
     "text": [
      "Best trial: 53. Best value: -1.32959:  57%|█████▋    | 57/100 [00:10<00:10,  4.08it/s]\u001b[32m2025-08-02 11:27:02.206\u001b[0m | \u001b[1mINFO    \u001b[0m | \u001b[36moutboxml.hyperparameter_tuning\u001b[0m:\u001b[36m_prepare_catboost\u001b[0m:\u001b[36m176\u001b[0m - \u001b[1mNo objective in config||Using from init\u001b[0m\n"
     ]
    },
    {
     "name": "stdout",
     "output_type": "stream",
     "text": [
      "[I 2025-08-02 11:27:02,034] Trial 63 finished with value: -1.8737768384432734 and parameters: {'iterations': 900, 'depth': 3, 'learning_rate': 0.011274628469244243, 'l2_leaf_reg': 0.3156210080023889, 'subsample': 0.4943074412105419, 'colsample_bylevel': 0.1663737943679991, 'min_data_in_leaf': 31}. Best is trial 53 with value: -1.3295926768642212.\n"
     ]
    },
    {
     "name": "stderr",
     "output_type": "stream",
     "text": [
      "Best trial: 53. Best value: -1.32959:  59%|█████▉    | 59/100 [00:11<00:11,  3.60it/s]\u001b[32m2025-08-02 11:27:02.769\u001b[0m | \u001b[1mINFO    \u001b[0m | \u001b[36moutboxml.hyperparameter_tuning\u001b[0m:\u001b[36m_prepare_catboost\u001b[0m:\u001b[36m176\u001b[0m - \u001b[1mNo objective in config||Using from init\u001b[0m\n",
      "Best trial: 53. Best value: -1.32959:  60%|██████    | 60/100 [00:11<00:11,  3.60it/s]"
     ]
    },
    {
     "name": "stdout",
     "output_type": "stream",
     "text": [
      "[I 2025-08-02 11:27:02,596] Trial 64 finished with value: -1.4130536208563342 and parameters: {'iterations': 900, 'depth': 3, 'learning_rate': 0.01191519848358396, 'l2_leaf_reg': 0.004149021954544586, 'subsample': 0.5179968747598143, 'colsample_bylevel': 0.9189720626428416, 'min_data_in_leaf': 31}. Best is trial 53 with value: -1.3295926768642212.\n",
      "[I 2025-08-02 11:27:02,745] Trial 62 finished with value: -1.721116770714777 and parameters: {'iterations': 200, 'depth': 11, 'learning_rate': 0.03749324791225323, 'l2_leaf_reg': 0.26686654405739174, 'subsample': 0.5043257352515048, 'colsample_bylevel': 0.9403374755522405, 'min_data_in_leaf': 61}. Best is trial 53 with value: -1.3295926768642212.\n",
      "[I 2025-08-02 11:27:02,778] Trial 66 finished with value: -1.4660311451231454 and parameters: {'iterations': 900, 'depth': 3, 'learning_rate': 0.011916538054538565, 'l2_leaf_reg': 0.0030586153270403442, 'subsample': 0.49775549308575723, 'colsample_bylevel': 0.3986879035080217, 'min_data_in_leaf': 91}. Best is trial 53 with value: -1.3295926768642212.\n",
      "[I 2025-08-02 11:27:02,784] Trial 65 finished with value: -1.4162271058498905 and parameters: {'iterations': 1000, 'depth': 3, 'learning_rate': 0.039186993702019904, 'l2_leaf_reg': 0.27112750571958594, 'subsample': 0.520851931926622, 'colsample_bylevel': 0.3873596941201368, 'min_data_in_leaf': 61}. Best is trial 53 with value: -1.3295926768642212.\n"
     ]
    },
    {
     "name": "stderr",
     "output_type": "stream",
     "text": [
      "Best trial: 53. Best value: -1.32959:  60%|██████    | 60/100 [00:11<00:11,  3.60it/s]\u001b[32m2025-08-02 11:27:02.974\u001b[0m | \u001b[1mINFO    \u001b[0m | \u001b[36moutboxml.hyperparameter_tuning\u001b[0m:\u001b[36m_prepare_catboost\u001b[0m:\u001b[36m176\u001b[0m - \u001b[1mNo objective in config||Using from init\u001b[0m\n",
      "\u001b[32m2025-08-02 11:27:02.976\u001b[0m | \u001b[1mINFO    \u001b[0m | \u001b[36moutboxml.hyperparameter_tuning\u001b[0m:\u001b[36m_prepare_catboost\u001b[0m:\u001b[36m176\u001b[0m - \u001b[1mNo objective in config||Using from init\u001b[0m\n",
      "\u001b[32m2025-08-02 11:27:02.985\u001b[0m | \u001b[1mINFO    \u001b[0m | \u001b[36moutboxml.hyperparameter_tuning\u001b[0m:\u001b[36m_prepare_catboost\u001b[0m:\u001b[36m176\u001b[0m - \u001b[1mNo objective in config||Using from init\u001b[0m\n",
      "Best trial: 53. Best value: -1.32959:  62%|██████▏   | 62/100 [00:11<00:07,  5.30it/s]\u001b[32m2025-08-02 11:27:03.288\u001b[0m | \u001b[1mINFO    \u001b[0m | \u001b[36moutboxml.hyperparameter_tuning\u001b[0m:\u001b[36m_prepare_catboost\u001b[0m:\u001b[36m176\u001b[0m - \u001b[1mNo objective in config||Using from init\u001b[0m\n"
     ]
    },
    {
     "name": "stdout",
     "output_type": "stream",
     "text": [
      "[I 2025-08-02 11:27:03,100] Trial 67 finished with value: -1.340803103524293 and parameters: {'iterations': 800, 'depth': 3, 'learning_rate': 0.03780821475350353, 'l2_leaf_reg': 0.004200489428942434, 'subsample': 0.46125550179946356, 'colsample_bylevel': 0.9218407556048667, 'min_data_in_leaf': 61}. Best is trial 53 with value: -1.3295926768642212.\n",
      "[I 2025-08-02 11:27:03,166] Trial 69 finished with value: -1.572884746789333 and parameters: {'iterations': 200, 'depth': 3, 'learning_rate': 0.03684841187005232, 'l2_leaf_reg': 0.0005557418403037639, 'subsample': 0.588052356261305, 'colsample_bylevel': 0.3644462865026127, 'min_data_in_leaf': 101}. Best is trial 53 with value: -1.3295926768642212.\n"
     ]
    },
    {
     "name": "stderr",
     "output_type": "stream",
     "text": [
      "\u001b[32m2025-08-02 11:27:03.312\u001b[0m | \u001b[1mINFO    \u001b[0m | \u001b[36moutboxml.hyperparameter_tuning\u001b[0m:\u001b[36m_prepare_catboost\u001b[0m:\u001b[36m176\u001b[0m - \u001b[1mNo objective in config||Using from init\u001b[0m\n",
      "Best trial: 53. Best value: -1.32959:  64%|██████▍   | 64/100 [00:12<00:08,  4.34it/s]\u001b[32m2025-08-02 11:27:03.909\u001b[0m | \u001b[1mINFO    \u001b[0m | \u001b[36moutboxml.hyperparameter_tuning\u001b[0m:\u001b[36m_prepare_catboost\u001b[0m:\u001b[36m176\u001b[0m - \u001b[1mNo objective in config||Using from init\u001b[0m\n"
     ]
    },
    {
     "name": "stdout",
     "output_type": "stream",
     "text": [
      "[I 2025-08-02 11:27:03,714] Trial 68 finished with value: -1.3737351523890668 and parameters: {'iterations': 1100, 'depth': 3, 'learning_rate': 0.03809794880097466, 'l2_leaf_reg': 0.001088739117770002, 'subsample': 0.5418911098254336, 'colsample_bylevel': 0.3780007694802765, 'min_data_in_leaf': 61}. Best is trial 53 with value: -1.3295926768642212.\n"
     ]
    },
    {
     "name": "stderr",
     "output_type": "stream",
     "text": [
      "                                                                                      "
     ]
    },
    {
     "name": "stdout",
     "output_type": "stream",
     "text": [
      "[I 2025-08-02 11:27:04,189] Trial 73 finished with value: -1.5898575949898444 and parameters: {'iterations': 800, 'depth': 1, 'learning_rate': 0.030310908534388465, 'l2_leaf_reg': 0.0007777971995134906, 'subsample': 0.38225738596736925, 'colsample_bylevel': 0.969511551842678, 'min_data_in_leaf': 101}. Best is trial 53 with value: -1.3295926768642212.\n",
      "[I 2025-08-02 11:27:04,218] Trial 74 finished with value: -1.5834119504008326 and parameters: {'iterations': 800, 'depth': 1, 'learning_rate': 0.028240361677338077, 'l2_leaf_reg': 0.0006517275183567319, 'subsample': 0.3831795872167972, 'colsample_bylevel': 0.9681714658153774, 'min_data_in_leaf': 81}. Best is trial 53 with value: -1.3295926768642212.\n",
      "[I 2025-08-02 11:27:04,221] Trial 71 finished with value: -1.3647836692914526 and parameters: {'iterations': 800, 'depth': 3, 'learning_rate': 0.029888213359385005, 'l2_leaf_reg': 0.0007323298763209395, 'subsample': 0.5765689219211476, 'colsample_bylevel': 0.8218020781082812, 'min_data_in_leaf': 31}. Best is trial 53 with value: -1.3295926768642212.\n"
     ]
    },
    {
     "name": "stderr",
     "output_type": "stream",
     "text": [
      "Best trial: 53. Best value: -1.32959:  68%|██████▊   | 68/100 [00:13<00:06,  5.31it/s]\u001b[32m2025-08-02 11:27:04.476\u001b[0m | \u001b[1mINFO    \u001b[0m | \u001b[36moutboxml.hyperparameter_tuning\u001b[0m:\u001b[36m_prepare_catboost\u001b[0m:\u001b[36m176\u001b[0m - \u001b[1mNo objective in config||Using from init\u001b[0m\n",
      "Best trial: 53. Best value: -1.32959:  69%|██████▉   | 69/100 [00:13<00:05,  5.31it/s]\u001b[32m2025-08-02 11:27:04.483\u001b[0m | \u001b[1mINFO    \u001b[0m | \u001b[36moutboxml.hyperparameter_tuning\u001b[0m:\u001b[36m_prepare_catboost\u001b[0m:\u001b[36m176\u001b[0m - \u001b[1mNo objective in config||Using from init\u001b[0m\n",
      "Best trial: 53. Best value: -1.32959:  69%|██████▉   | 69/100 [00:13<00:05,  5.31it/s]\u001b[32m2025-08-02 11:27:04.497\u001b[0m | \u001b[1mINFO    \u001b[0m | \u001b[36moutboxml.hyperparameter_tuning\u001b[0m:\u001b[36m_prepare_catboost\u001b[0m:\u001b[36m176\u001b[0m - \u001b[1mNo objective in config||Using from init\u001b[0m\n"
     ]
    },
    {
     "name": "stdout",
     "output_type": "stream",
     "text": [
      "[I 2025-08-02 11:27:04,374] Trial 61 finished with value: -1.8490515297762746 and parameters: {'iterations': 300, 'depth': 11, 'learning_rate': 0.037286863505613145, 'l2_leaf_reg': 0.0027163047674334615, 'subsample': 0.46515521421535466, 'colsample_bylevel': 0.9208079735928506, 'min_data_in_leaf': 21}. Best is trial 53 with value: -1.3295926768642212.\n",
      "[I 2025-08-02 11:27:04,411] Trial 72 finished with value: -1.3629706654796685 and parameters: {'iterations': 800, 'depth': 3, 'learning_rate': 0.029440922518598315, 'l2_leaf_reg': 0.0005681497248456243, 'subsample': 0.5557811646648694, 'colsample_bylevel': 0.8283905580823437, 'min_data_in_leaf': 31}. Best is trial 53 with value: -1.3295926768642212.\n",
      "[I 2025-08-02 11:27:04,412] Trial 70 finished with value: -1.3609601576248587 and parameters: {'iterations': 1100, 'depth': 3, 'learning_rate': 0.030448054793504577, 'l2_leaf_reg': 0.00103404442933529, 'subsample': 0.5742968892924807, 'colsample_bylevel': 0.38589897664973916, 'min_data_in_leaf': 91}. Best is trial 53 with value: -1.3295926768642212.\n"
     ]
    },
    {
     "name": "stderr",
     "output_type": "stream",
     "text": [
      "\u001b[32m2025-08-02 11:27:04.641\u001b[0m | \u001b[1mINFO    \u001b[0m | \u001b[36moutboxml.hyperparameter_tuning\u001b[0m:\u001b[36m_prepare_catboost\u001b[0m:\u001b[36m176\u001b[0m - \u001b[1mNo objective in config||Using from init\u001b[0m\n",
      "\u001b[32m2025-08-02 11:27:04.642\u001b[0m | \u001b[1mINFO    \u001b[0m | \u001b[36moutboxml.hyperparameter_tuning\u001b[0m:\u001b[36m_prepare_catboost\u001b[0m:\u001b[36m176\u001b[0m - \u001b[1mNo objective in config||Using from init\u001b[0m\n",
      "\u001b[32m2025-08-02 11:27:04.642\u001b[0m | \u001b[1mINFO    \u001b[0m | \u001b[36moutboxml.hyperparameter_tuning\u001b[0m:\u001b[36m_prepare_catboost\u001b[0m:\u001b[36m176\u001b[0m - \u001b[1mNo objective in config||Using from init\u001b[0m\n",
      "\u001b[32m2025-08-02 11:27:05.425\u001b[0m | \u001b[1mINFO    \u001b[0m | \u001b[36moutboxml.hyperparameter_tuning\u001b[0m:\u001b[36m_prepare_catboost\u001b[0m:\u001b[36m176\u001b[0m - \u001b[1mNo objective in config||Using from init\u001b[0m\n",
      "Best trial: 53. Best value: -1.32959:  73%|███████▎  | 73/100 [00:13<00:04,  5.66it/s]"
     ]
    },
    {
     "name": "stdout",
     "output_type": "stream",
     "text": [
      "[I 2025-08-02 11:27:05,244] Trial 75 finished with value: -1.5127741126861365 and parameters: {'iterations': 1100, 'depth': 1, 'learning_rate': 0.03374529754567946, 'l2_leaf_reg': 0.0007032132421606197, 'subsample': 0.39311085702362025, 'colsample_bylevel': 0.8307930814724881, 'min_data_in_leaf': 71}. Best is trial 53 with value: -1.3295926768642212.\n",
      "[I 2025-08-02 11:27:05,330] Trial 79 finished with value: -1.5705283710293185 and parameters: {'iterations': 700, 'depth': 1, 'learning_rate': 0.034035162295680856, 'l2_leaf_reg': 5.1543554888776106e-05, 'subsample': 0.46671438490596145, 'colsample_bylevel': 0.8264368755297806, 'min_data_in_leaf': 81}. Best is trial 53 with value: -1.3295926768642212.\n",
      "[I 2025-08-02 11:27:05,342] Trial 81 finished with value: -1.5615815187151847 and parameters: {'iterations': 700, 'depth': 1, 'learning_rate': 0.03416893774624959, 'l2_leaf_reg': 0.00031427542362925503, 'subsample': 0.618151461988053, 'colsample_bylevel': 0.4390303914490225, 'min_data_in_leaf': 81}. Best is trial 53 with value: -1.3295926768642212.\n",
      "[I 2025-08-02 11:27:05,408] Trial 80 finished with value: -1.5810234897589936 and parameters: {'iterations': 700, 'depth': 1, 'learning_rate': 0.034574212866337266, 'l2_leaf_reg': 0.00025725282463555, 'subsample': 0.6283893274747014, 'colsample_bylevel': 0.536787146819922, 'min_data_in_leaf': 91}. Best is trial 53 with value: -1.3295926768642212.\n"
     ]
    },
    {
     "name": "stderr",
     "output_type": "stream",
     "text": [
      "Best trial: 53. Best value: -1.32959:  73%|███████▎  | 73/100 [00:14<00:04,  5.66it/s]\u001b[32m2025-08-02 11:27:05.548\u001b[0m | \u001b[1mINFO    \u001b[0m | \u001b[36moutboxml.hyperparameter_tuning\u001b[0m:\u001b[36m_prepare_catboost\u001b[0m:\u001b[36m176\u001b[0m - \u001b[1mNo objective in config||Using from init\u001b[0m\n",
      "\u001b[32m2025-08-02 11:27:05.585\u001b[0m | \u001b[1mINFO    \u001b[0m | \u001b[36moutboxml.hyperparameter_tuning\u001b[0m:\u001b[36m_prepare_catboost\u001b[0m:\u001b[36m176\u001b[0m - \u001b[1mNo objective in config||Using from init\u001b[0m\n",
      "\u001b[32m2025-08-02 11:27:05.646\u001b[0m | \u001b[1mINFO    \u001b[0m | \u001b[36moutboxml.hyperparameter_tuning\u001b[0m:\u001b[36m_prepare_catboost\u001b[0m:\u001b[36m176\u001b[0m - \u001b[1mNo objective in config||Using from init\u001b[0m\n",
      "Best trial: 53. Best value: -1.32959:  75%|███████▌  | 75/100 [00:14<00:05,  4.39it/s]\u001b[32m2025-08-02 11:27:06.278\u001b[0m | \u001b[1mINFO    \u001b[0m | \u001b[36moutboxml.hyperparameter_tuning\u001b[0m:\u001b[36m_prepare_catboost\u001b[0m:\u001b[36m176\u001b[0m - \u001b[1mNo objective in config||Using from init\u001b[0m\n"
     ]
    },
    {
     "name": "stdout",
     "output_type": "stream",
     "text": [
      "[I 2025-08-02 11:27:06,088] Trial 78 finished with value: -1.3866385765253924 and parameters: {'iterations': 1000, 'depth': 3, 'learning_rate': 0.041938319560940435, 'l2_leaf_reg': 0.0011865187982626666, 'subsample': 0.5536650293864972, 'colsample_bylevel': 0.833629633148401, 'min_data_in_leaf': 71}. Best is trial 53 with value: -1.3295926768642212.\n",
      "[I 2025-08-02 11:27:06,108] Trial 77 finished with value: -1.389395026130809 and parameters: {'iterations': 1100, 'depth': 3, 'learning_rate': 0.03317107891200115, 'l2_leaf_reg': 0.0003180152057529189, 'subsample': 0.4655542806654567, 'colsample_bylevel': 0.8255075967513441, 'min_data_in_leaf': 71}. Best is trial 53 with value: -1.3295926768642212.\n"
     ]
    },
    {
     "name": "stderr",
     "output_type": "stream",
     "text": [
      "                                                                                      \u001b[32m2025-08-02 11:27:06.343\u001b[0m | \u001b[1mINFO    \u001b[0m | \u001b[36moutboxml.hyperparameter_tuning\u001b[0m:\u001b[36m_prepare_catboost\u001b[0m:\u001b[36m176\u001b[0m - \u001b[1mNo objective in config||Using from init\u001b[0m\n",
      "Best trial: 53. Best value: -1.32959:  77%|███████▋  | 77/100 [00:14<00:04,  5.08it/s]\u001b[32m2025-08-02 11:27:06.509\u001b[0m | \u001b[1mINFO    \u001b[0m | \u001b[36moutboxml.hyperparameter_tuning\u001b[0m:\u001b[36m_prepare_catboost\u001b[0m:\u001b[36m176\u001b[0m - \u001b[1mNo objective in config||Using from init\u001b[0m\n"
     ]
    },
    {
     "name": "stdout",
     "output_type": "stream",
     "text": [
      "[I 2025-08-02 11:27:06,305] Trial 76 finished with value: -1.3792929594192456 and parameters: {'iterations': 1100, 'depth': 3, 'learning_rate': 0.033521303121755955, 'l2_leaf_reg': 0.0003267373278565651, 'subsample': 0.4633416190869935, 'colsample_bylevel': 0.832835006134055, 'min_data_in_leaf': 71}. Best is trial 53 with value: -1.3295926768642212.\n",
      "[I 2025-08-02 11:27:06,322] Trial 51 finished with value: -1.8655444930380416 and parameters: {'iterations': 1000, 'depth': 11, 'learning_rate': 0.016606292149165074, 'l2_leaf_reg': 0.0016994603958388353, 'subsample': 0.4243079579642276, 'colsample_bylevel': 0.49705160352789, 'min_data_in_leaf': 21}. Best is trial 53 with value: -1.3295926768642212.\n"
     ]
    },
    {
     "name": "stderr",
     "output_type": "stream",
     "text": [
      "\u001b[32m2025-08-02 11:27:06.540\u001b[0m | \u001b[1mINFO    \u001b[0m | \u001b[36moutboxml.hyperparameter_tuning\u001b[0m:\u001b[36m_prepare_catboost\u001b[0m:\u001b[36m176\u001b[0m - \u001b[1mNo objective in config||Using from init\u001b[0m\n",
      "Best trial: 53. Best value: -1.32959:  79%|███████▉  | 79/100 [00:15<00:04,  5.24it/s]\u001b[32m2025-08-02 11:27:06.836\u001b[0m | \u001b[1mINFO    \u001b[0m | \u001b[36moutboxml.hyperparameter_tuning\u001b[0m:\u001b[36m_prepare_catboost\u001b[0m:\u001b[36m176\u001b[0m - \u001b[1mNo objective in config||Using from init\u001b[0m\n"
     ]
    },
    {
     "name": "stdout",
     "output_type": "stream",
     "text": [
      "[I 2025-08-02 11:27:06,669] Trial 82 finished with value: -1.3847839905191808 and parameters: {'iterations': 700, 'depth': 3, 'learning_rate': 0.03352585726526788, 'l2_leaf_reg': 0.00030988752161185707, 'subsample': 0.6189955702143239, 'colsample_bylevel': 0.8294514181788422, 'min_data_in_leaf': 31}. Best is trial 53 with value: -1.3295926768642212.\n"
     ]
    },
    {
     "name": "stderr",
     "output_type": "stream",
     "text": [
      "Best trial: 53. Best value: -1.32959:  82%|████████▏ | 82/100 [00:15<00:02,  6.40it/s]\u001b[32m2025-08-02 11:27:07.103\u001b[0m | \u001b[1mINFO    \u001b[0m | \u001b[36moutboxml.hyperparameter_tuning\u001b[0m:\u001b[36m_prepare_catboost\u001b[0m:\u001b[36m176\u001b[0m - \u001b[1mNo objective in config||Using from init\u001b[0m\n"
     ]
    },
    {
     "name": "stdout",
     "output_type": "stream",
     "text": [
      "[I 2025-08-02 11:27:06,903] Trial 85 finished with value: -1.3678280897839794 and parameters: {'iterations': 1000, 'depth': 3, 'learning_rate': 0.04158068197673969, 'l2_leaf_reg': 0.004862071388580656, 'subsample': 0.5560578964759296, 'colsample_bylevel': 0.333118678474242, 'min_data_in_leaf': 31}. Best is trial 53 with value: -1.3295926768642212.\n",
      "[I 2025-08-02 11:27:06,914] Trial 83 finished with value: -1.3991713672554207 and parameters: {'iterations': 1000, 'depth': 3, 'learning_rate': 0.04218564048157907, 'l2_leaf_reg': 0.005308722312572094, 'subsample': 0.5674986630645407, 'colsample_bylevel': 0.5471837100535785, 'min_data_in_leaf': 31}. Best is trial 53 with value: -1.3295926768642212.\n",
      "[I 2025-08-02 11:27:07,043] Trial 84 finished with value: -1.3901471060970982 and parameters: {'iterations': 1000, 'depth': 3, 'learning_rate': 0.031064859869943933, 'l2_leaf_reg': 0.004890974290819735, 'subsample': 0.5539877879991411, 'colsample_bylevel': 0.5444560485738025, 'min_data_in_leaf': 41}. Best is trial 53 with value: -1.3295926768642212.\n"
     ]
    },
    {
     "name": "stderr",
     "output_type": "stream",
     "text": [
      "\u001b[32m2025-08-02 11:27:07.107\u001b[0m | \u001b[1mINFO    \u001b[0m | \u001b[36moutboxml.hyperparameter_tuning\u001b[0m:\u001b[36m_prepare_catboost\u001b[0m:\u001b[36m176\u001b[0m - \u001b[1mNo objective in config||Using from init\u001b[0m\n",
      "\u001b[32m2025-08-02 11:27:07.221\u001b[0m | \u001b[1mINFO    \u001b[0m | \u001b[36moutboxml.hyperparameter_tuning\u001b[0m:\u001b[36m_prepare_catboost\u001b[0m:\u001b[36m176\u001b[0m - \u001b[1mNo objective in config||Using from init\u001b[0m\n",
      "Best trial: 53. Best value: -1.32959:  83%|████████▎ | 83/100 [00:16<00:03,  4.44it/s]\u001b[32m2025-08-02 11:27:07.701\u001b[0m | \u001b[1mINFO    \u001b[0m | \u001b[36moutboxml.hyperparameter_tuning\u001b[0m:\u001b[36m_prepare_catboost\u001b[0m:\u001b[36m176\u001b[0m - \u001b[1mNo objective in config||Using from init\u001b[0m\n",
      "Best trial: 53. Best value: -1.32959:  84%|████████▍ | 84/100 [00:16<00:03,  4.78it/s]"
     ]
    },
    {
     "name": "stdout",
     "output_type": "stream",
     "text": [
      "[I 2025-08-02 11:27:07,561] Trial 86 finished with value: -1.4159412760937717 and parameters: {'iterations': 800, 'depth': 3, 'learning_rate': 0.030953907881437755, 'l2_leaf_reg': 0.005301140556902137, 'subsample': 0.5849822869745991, 'colsample_bylevel': 0.3110504644118989, 'min_data_in_leaf': 31}. Best is trial 53 with value: -1.3295926768642212.\n",
      "[I 2025-08-02 11:27:07,722] Trial 87 finished with value: -1.377358542208544 and parameters: {'iterations': 800, 'depth': 3, 'learning_rate': 0.041945895567363466, 'l2_leaf_reg': 0.005024544421607007, 'subsample': 0.5988768225107863, 'colsample_bylevel': 0.9043465492829778, 'min_data_in_leaf': 31}. Best is trial 53 with value: -1.3295926768642212.\n",
      "[I 2025-08-02 11:27:07,728] Trial 50 finished with value: -1.7648096368722568 and parameters: {'iterations': 1000, 'depth': 11, 'learning_rate': 0.027962034524934527, 'l2_leaf_reg': 0.033359261351489734, 'subsample': 0.44943848653281127, 'colsample_bylevel': 0.5187610392277964, 'min_data_in_leaf': 21}. Best is trial 53 with value: -1.3295926768642212.\n"
     ]
    },
    {
     "name": "stderr",
     "output_type": "stream",
     "text": [
      "Best trial: 53. Best value: -1.32959:  85%|████████▌ | 85/100 [00:16<00:03,  4.78it/s]\u001b[32m2025-08-02 11:27:07.880\u001b[0m | \u001b[1mINFO    \u001b[0m | \u001b[36moutboxml.hyperparameter_tuning\u001b[0m:\u001b[36m_prepare_catboost\u001b[0m:\u001b[36m176\u001b[0m - \u001b[1mNo objective in config||Using from init\u001b[0m\n",
      "\u001b[32m2025-08-02 11:27:07.925\u001b[0m | \u001b[1mINFO    \u001b[0m | \u001b[36moutboxml.hyperparameter_tuning\u001b[0m:\u001b[36m_prepare_catboost\u001b[0m:\u001b[36m176\u001b[0m - \u001b[1mNo objective in config||Using from init\u001b[0m\n"
     ]
    },
    {
     "name": "stdout",
     "output_type": "stream",
     "text": [
      "[I 2025-08-02 11:27:07,773] Trial 55 finished with value: -1.8140574587924878 and parameters: {'iterations': 1000, 'depth': 11, 'learning_rate': 0.017545705840940798, 'l2_leaf_reg': 0.040802126620175024, 'subsample': 0.41204174880566136, 'colsample_bylevel': 0.5200967278244348, 'min_data_in_leaf': 21}. Best is trial 53 with value: -1.3295926768642212.\n"
     ]
    },
    {
     "name": "stderr",
     "output_type": "stream",
     "text": [
      "\u001b[32m2025-08-02 11:27:07.995\u001b[0m | \u001b[1mINFO    \u001b[0m | \u001b[36moutboxml.hyperparameter_tuning\u001b[0m:\u001b[36m_prepare_catboost\u001b[0m:\u001b[36m176\u001b[0m - \u001b[1mNo objective in config||Using from init\u001b[0m\n",
      "Best trial: 53. Best value: -1.32959:  87%|████████▋ | 87/100 [00:16<00:02,  5.77it/s]\u001b[32m2025-08-02 11:27:08.248\u001b[0m | \u001b[1mINFO    \u001b[0m | \u001b[36moutboxml.hyperparameter_tuning\u001b[0m:\u001b[36m_prepare_catboost\u001b[0m:\u001b[36m176\u001b[0m - \u001b[1mNo objective in config||Using from init\u001b[0m\n",
      "Best trial: 53. Best value: -1.32959:  88%|████████▊ | 88/100 [00:16<00:02,  5.87it/s]"
     ]
    },
    {
     "name": "stdout",
     "output_type": "stream",
     "text": [
      "[I 2025-08-02 11:27:08,118] Trial 88 finished with value: -1.376142394850041 and parameters: {'iterations': 800, 'depth': 3, 'learning_rate': 0.026421114450422847, 'l2_leaf_reg': 0.00012455292765586168, 'subsample': 0.591696335161686, 'colsample_bylevel': 0.9039453463392966, 'min_data_in_leaf': 31}. Best is trial 53 with value: -1.3295926768642212.\n",
      "[I 2025-08-02 11:27:08,272] Trial 89 finished with value: -1.3814355764517108 and parameters: {'iterations': 800, 'depth': 3, 'learning_rate': 0.04189787217105068, 'l2_leaf_reg': 0.005008921893913763, 'subsample': 0.5866303872994574, 'colsample_bylevel': 0.9036821166554286, 'min_data_in_leaf': 31}. Best is trial 53 with value: -1.3295926768642212.\n",
      "[I 2025-08-02 11:27:08,273] Trial 90 finished with value: -1.378352015882946 and parameters: {'iterations': 800, 'depth': 3, 'learning_rate': 0.02602044512168974, 'l2_leaf_reg': 0.005547043337852155, 'subsample': 0.5827203126387426, 'colsample_bylevel': 0.9993616391103335, 'min_data_in_leaf': 41}. Best is trial 53 with value: -1.3295926768642212.\n"
     ]
    },
    {
     "name": "stderr",
     "output_type": "stream",
     "text": [
      "Best trial: 53. Best value: -1.32959:  90%|█████████ | 90/100 [00:16<00:01,  7.59it/s]\u001b[32m2025-08-02 11:27:08.463\u001b[0m | \u001b[1mINFO    \u001b[0m | \u001b[36moutboxml.hyperparameter_tuning\u001b[0m:\u001b[36m_prepare_catboost\u001b[0m:\u001b[36m176\u001b[0m - \u001b[1mNo objective in config||Using from init\u001b[0m\n",
      "Best trial: 53. Best value: -1.32959:  92%|█████████▏| 92/100 [00:17<00:00,  9.12it/s]"
     ]
    },
    {
     "name": "stdout",
     "output_type": "stream",
     "text": [
      "[I 2025-08-02 11:27:08,379] Trial 93 finished with value: -1.3872387942137632 and parameters: {'iterations': 800, 'depth': 3, 'learning_rate': 0.04181580579538245, 'l2_leaf_reg': 0.00012253846936644382, 'subsample': 0.5886960065485467, 'colsample_bylevel': 0.34613235697260963, 'min_data_in_leaf': 41}. Best is trial 53 with value: -1.3295926768642212.\n",
      "[I 2025-08-02 11:27:08,408] Trial 91 finished with value: -1.3876691741061216 and parameters: {'iterations': 800, 'depth': 3, 'learning_rate': 0.0311899791510173, 'l2_leaf_reg': 0.014609793596135059, 'subsample': 0.5864304305856883, 'colsample_bylevel': 0.3480980593460299, 'min_data_in_leaf': 41}. Best is trial 53 with value: -1.3295926768642212.\n",
      "[I 2025-08-02 11:27:08,529] Trial 92 finished with value: -1.367452187610832 and parameters: {'iterations': 800, 'depth': 3, 'learning_rate': 0.03068883418464557, 'l2_leaf_reg': 0.011449213711999078, 'subsample': 0.5441468849262223, 'colsample_bylevel': 0.3545039803630539, 'min_data_in_leaf': 41}. Best is trial 53 with value: -1.3295926768642212.\n"
     ]
    },
    {
     "name": "stderr",
     "output_type": "stream",
     "text": [
      "Best trial: 53. Best value: -1.32959:  94%|█████████▍| 94/100 [00:17<00:00,  8.66it/s]"
     ]
    },
    {
     "name": "stdout",
     "output_type": "stream",
     "text": [
      "[I 2025-08-02 11:27:08,763] Trial 96 finished with value: -1.4871483586368253 and parameters: {'iterations': 900, 'depth': 5, 'learning_rate': 0.025591901897300866, 'l2_leaf_reg': 0.014193054756540927, 'subsample': 0.48736701128973964, 'colsample_bylevel': 0.25458215309347654, 'min_data_in_leaf': 41}. Best is trial 53 with value: -1.3295926768642212.\n",
      "[I 2025-08-02 11:27:08,787] Trial 94 finished with value: -1.442899614775329 and parameters: {'iterations': 900, 'depth': 3, 'learning_rate': 0.025596454332177256, 'l2_leaf_reg': 0.00012762028794070654, 'subsample': 0.5321751143619119, 'colsample_bylevel': 0.2640865452161625, 'min_data_in_leaf': 51}. Best is trial 53 with value: -1.3295926768642212.\n",
      "[I 2025-08-02 11:27:08,950] Trial 95 finished with value: -1.4694952475288579 and parameters: {'iterations': 900, 'depth': 5, 'learning_rate': 0.026621535300077732, 'l2_leaf_reg': 0.01343941892816578, 'subsample': 0.4855695179259176, 'colsample_bylevel': 0.34910359073837, 'min_data_in_leaf': 41}. Best is trial 53 with value: -1.3295926768642212.\n"
     ]
    },
    {
     "name": "stderr",
     "output_type": "stream",
     "text": [
      "Best trial: 53. Best value: -1.32959:  96%|█████████▌| 96/100 [00:17<00:00,  8.05it/s]"
     ]
    },
    {
     "name": "stdout",
     "output_type": "stream",
     "text": [
      "[I 2025-08-02 11:27:09,073] Trial 98 finished with value: -1.5866095849484239 and parameters: {'iterations': 900, 'depth': 5, 'learning_rate': 0.053489767792719446, 'l2_leaf_reg': 0.017260612408707132, 'subsample': 0.36330897568114523, 'colsample_bylevel': 0.2621859371690726, 'min_data_in_leaf': 51}. Best is trial 53 with value: -1.3295926768642212.\n",
      "[I 2025-08-02 11:27:09,169] Trial 97 finished with value: -1.471825637332243 and parameters: {'iterations': 900, 'depth': 5, 'learning_rate': 0.05290613858328139, 'l2_leaf_reg': 0.00010314850469025912, 'subsample': 0.4813761065650155, 'colsample_bylevel': 0.9981618866597021, 'min_data_in_leaf': 41}. Best is trial 53 with value: -1.3295926768642212.\n"
     ]
    },
    {
     "name": "stderr",
     "output_type": "stream",
     "text": [
      "Best trial: 53. Best value: -1.32959:  98%|█████████▊| 98/100 [00:17<00:00,  8.08it/s]"
     ]
    },
    {
     "name": "stdout",
     "output_type": "stream",
     "text": [
      "[I 2025-08-02 11:27:09,320] Trial 99 finished with value: -1.4454439067521834 and parameters: {'iterations': 900, 'depth': 5, 'learning_rate': 0.051107493759915704, 'l2_leaf_reg': 0.008435117216204255, 'subsample': 0.3652542443158535, 'colsample_bylevel': 0.7982024506384091, 'min_data_in_leaf': 51}. Best is trial 53 with value: -1.3295926768642212.\n"
     ]
    },
    {
     "name": "stderr",
     "output_type": "stream",
     "text": [
      "Best trial: 53. Best value: -1.32959:  99%|█████████▉| 99/100 [00:19<00:00,  2.54it/s]"
     ]
    },
    {
     "name": "stdout",
     "output_type": "stream",
     "text": [
      "[I 2025-08-02 11:27:10,932] Trial 19 finished with value: -1.8600350371359335 and parameters: {'iterations': 600, 'depth': 13, 'learning_rate': 0.07671226457481636, 'l2_leaf_reg': 3.967080482351359, 'subsample': 0.27167907231242194, 'colsample_bylevel': 0.9289264928093385, 'min_data_in_leaf': 51}. Best is trial 53 with value: -1.3295926768642212.\n"
     ]
    }
   ],
   "source": [
    "from outboxml.automl_manager import AutoMLManager\n",
    "\n",
    "config_name = './configs/config-energy-efficiency-basic.json'\n",
    "auto_ml_config = './configs/automl-energy-efficiency-automl.json'\n",
    "\n",
    "auto_ml = AutoMLManager(auto_ml_config=auto_ml_config,models_config=config_name)\n",
    "auto_ml.update_models()"
   ]
  },
  {
   "cell_type": "code",
   "execution_count": null,
   "id": "41d085ad-d841-4197-bc8a-18498b3b285b",
   "metadata": {},
   "outputs": [],
   "source": [
    "auto_ml.get_result()['heating'].metrics"
   ]
  }
 ],
 "metadata": {
  "kernelspec": {
   "display_name": "Python 3 (ipykernel)",
   "language": "python",
   "name": "python3"
  },
  "language_info": {
   "codemirror_mode": {
    "name": "ipython",
    "version": 3
   },
   "file_extension": ".py",
   "mimetype": "text/x-python",
   "name": "python",
   "nbconvert_exporter": "python",
   "pygments_lexer": "ipython3",
   "version": "3.11.6"
  }
 },
 "nbformat": 4,
 "nbformat_minor": 5
}
